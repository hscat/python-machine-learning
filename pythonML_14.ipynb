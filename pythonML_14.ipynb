{
 "nbformat": 4,
 "nbformat_minor": 0,
 "metadata": {
  "colab": {
   "name": "pythonML_14.ipynb",
   "provenance": [],
   "collapsed_sections": [],
   "authorship_tag": "ABX9TyOT5cq2XsUDeeWOPrxGfCJc"
  },
  "kernelspec": {
   "name": "python3",
   "language": "python",
   "display_name": "Python 3 (ipykernel)"
  },
  "language_info": {
   "name": "python"
  }
 },
 "cells": [
  {
   "cell_type": "markdown",
   "metadata": {
    "id": "l3nVZ5sbF9Fa"
   },
   "source": [
    "# Chapter 14"
   ]
  },
  {
   "cell_type": "code",
   "metadata": {
    "colab": {
     "base_uri": "https://localhost:8080/"
    },
    "id": "59y-_41ISBh-",
    "executionInfo": {
     "status": "ok",
     "timestamp": 1632653855775,
     "user_tz": -540,
     "elapsed": 24,
     "user": {
      "displayName": "Take Okamoto",
      "photoUrl": "https://lh3.googleusercontent.com/a-/AOh14GhVqmNnut5L-0ft4xro2ZbcGFAS-3j24RhttYBBuQ=s64",
      "userId": "05374417784101071994"
     }
    },
    "outputId": "df59bb44-9dd3-4c2f-df8d-46c02f3afad2"
   },
   "source": [
    "\"\"\"\n",
    "Google Colaboratoryの場合のみ実行\n",
    "\"\"\"\n",
    "from google.colab import drive\n",
    "drive.mount(\"/content/drive\")"
   ],
   "execution_count": 55,
   "outputs": [
    {
     "output_type": "stream",
     "name": "stdout",
     "text": [
      "Drive already mounted at /content/drive; to attempt to forcibly remount, call drive.mount(\"/content/drive\", force_remount=True).\n"
     ]
    }
   ]
  },
  {
   "cell_type": "code",
   "metadata": {
    "id": "WgXbfKEcSJbW",
    "executionInfo": {
     "status": "ok",
     "timestamp": 1632653857544,
     "user_tz": -540,
     "elapsed": 252,
     "user": {
      "displayName": "Take Okamoto",
      "photoUrl": "https://lh3.googleusercontent.com/a-/AOh14GhVqmNnut5L-0ft4xro2ZbcGFAS-3j24RhttYBBuQ=s64",
      "userId": "05374417784101071994"
     }
    }
   },
   "source": [
    "colab_path = \"/content/drive/MyDrive/100programming/pythonML/\""
   ],
   "execution_count": 56,
   "outputs": []
  },
  {
   "cell_type": "code",
   "metadata": {
    "id": "41EWsk93Ad-f",
    "executionInfo": {
     "status": "ok",
     "timestamp": 1632653858946,
     "user_tz": -540,
     "elapsed": 241,
     "user": {
      "displayName": "Take Okamoto",
      "photoUrl": "https://lh3.googleusercontent.com/a-/AOh14GhVqmNnut5L-0ft4xro2ZbcGFAS-3j24RhttYBBuQ=s64",
      "userId": "05374417784101071994"
     }
    }
   },
   "source": [
    "import matplotlib.pyplot as plt\n",
    "import numpy as np\n",
    "import pandas as pd\n",
    "import sklearn\n",
    "import sklearn.model_selection\n",
    "import tensorflow as tf\n",
    "import tensorflow_datasets as tfds\n",
    "from mlxtend.plotting import plot_decision_regions\n",
    "\n",
    "plt.style.use({'figure.facecolor': 'white'})"
   ],
   "execution_count": 57,
   "outputs": []
  },
  {
   "cell_type": "markdown",
   "metadata": {
    "id": "vdEcfUKvS43a"
   },
   "source": [
    "## 14.2"
   ]
  },
  {
   "cell_type": "code",
   "metadata": {
    "colab": {
     "base_uri": "https://localhost:8080/"
    },
    "id": "DzQSL4eIR2X_",
    "executionInfo": {
     "status": "ok",
     "timestamp": 1632646041284,
     "user_tz": -540,
     "elapsed": 28,
     "user": {
      "displayName": "Take Okamoto",
      "photoUrl": "https://lh3.googleusercontent.com/a-/AOh14GhVqmNnut5L-0ft4xro2ZbcGFAS-3j24RhttYBBuQ=s64",
      "userId": "05374417784101071994"
     }
    },
    "outputId": "d01502e2-4700-4b2a-d256-a12e58d55b44"
   },
   "source": [
    "g = tf.Graph()\n",
    "with g.as_default():\n",
    "    a = tf.constant(1, name=\"a\")\n",
    "    b = tf.constant(2, name=\"b\")\n",
    "    c = tf.constant(3, name=\"c\")\n",
    "    z = 2 * (a - b) + c\n",
    "\n",
    "with tf.compat.v1.Session(graph=g) as sess:\n",
    "    print(\"Result: z =\", sess.run(z))"
   ],
   "execution_count": null,
   "outputs": [
    {
     "output_type": "stream",
     "name": "stdout",
     "text": [
      "Result: z = 1\n"
     ]
    }
   ]
  },
  {
   "cell_type": "code",
   "metadata": {
    "colab": {
     "base_uri": "https://localhost:8080/"
    },
    "id": "m7lHRATZX_PG",
    "executionInfo": {
     "status": "ok",
     "timestamp": 1632646041284,
     "user_tz": -540,
     "elapsed": 24,
     "user": {
      "displayName": "Take Okamoto",
      "photoUrl": "https://lh3.googleusercontent.com/a-/AOh14GhVqmNnut5L-0ft4xro2ZbcGFAS-3j24RhttYBBuQ=s64",
      "userId": "05374417784101071994"
     }
    },
    "outputId": "8d38f46a-5eda-494e-c849-305f7e570b3b"
   },
   "source": [
    "a = tf.constant(1, name=\"a\")\n",
    "b = tf.constant(2, name=\"b\")\n",
    "c = tf.constant(3, name=\"c\")\n",
    "z = 2 * (a - b) + c\n",
    "tf.print(\"Result: z =\", z)"
   ],
   "execution_count": null,
   "outputs": [
    {
     "output_type": "stream",
     "name": "stdout",
     "text": [
      "Result: z = 1\n"
     ]
    }
   ]
  },
  {
   "cell_type": "code",
   "metadata": {
    "colab": {
     "base_uri": "https://localhost:8080/"
    },
    "id": "Hk-Jrwe4YLm9",
    "executionInfo": {
     "status": "ok",
     "timestamp": 1632646041285,
     "user_tz": -540,
     "elapsed": 22,
     "user": {
      "displayName": "Take Okamoto",
      "photoUrl": "https://lh3.googleusercontent.com/a-/AOh14GhVqmNnut5L-0ft4xro2ZbcGFAS-3j24RhttYBBuQ=s64",
      "userId": "05374417784101071994"
     }
    },
    "outputId": "dcb8ad95-aa4c-4481-eefc-6e0c070f1f9a"
   },
   "source": [
    "g = tf.Graph()\n",
    "with g.as_default():\n",
    "    a = tf.compat.v1.placeholder(shape=None, dtype=tf.int32, name=\"tf_a\")\n",
    "    b = tf.compat.v1.placeholder(shape=None, dtype=tf.int32, name=\"tf_b\")\n",
    "    c = tf.compat.v1.placeholder(shape=None, dtype=tf.int32, name=\"tf_c\")\n",
    "    z = 2 * (a - b) + c\n",
    "\n",
    "with tf.compat.v1.Session(graph=g) as sess:\n",
    "    feed_dict = {a: 1, b: 2, c: 3}\n",
    "    print(\"Result: z =\", sess.run(z, feed_dict=feed_dict))"
   ],
   "execution_count": null,
   "outputs": [
    {
     "output_type": "stream",
     "name": "stdout",
     "text": [
      "Result: z = 1\n"
     ]
    }
   ]
  },
  {
   "cell_type": "code",
   "metadata": {
    "colab": {
     "base_uri": "https://localhost:8080/"
    },
    "id": "0oyELz5EY0fm",
    "executionInfo": {
     "status": "ok",
     "timestamp": 1632646041285,
     "user_tz": -540,
     "elapsed": 19,
     "user": {
      "displayName": "Take Okamoto",
      "photoUrl": "https://lh3.googleusercontent.com/a-/AOh14GhVqmNnut5L-0ft4xro2ZbcGFAS-3j24RhttYBBuQ=s64",
      "userId": "05374417784101071994"
     }
    },
    "outputId": "7ea78884-33c5-4223-cd52-90e53e879817"
   },
   "source": [
    "def compute_z(a, b, c):\n",
    "    r1 = tf.subtract(a, b)\n",
    "    r2 = tf.multiply(2, r1)\n",
    "    z = tf.add(r2, c)\n",
    "    return z\n",
    "\n",
    "tf.print(\"Scalar Inputs:\", compute_z(1, 2, 3))\n",
    "tf.print(\"Rank 1 Inputs:\", compute_z([1], [2], [3]))\n",
    "tf.print(\"Rank 2 Inputs:\", compute_z([[1]], [[2]], [[3]]))"
   ],
   "execution_count": null,
   "outputs": [
    {
     "output_type": "stream",
     "name": "stdout",
     "text": [
      "Scalar Inputs: 1\n",
      "Rank 1 Inputs: [1]\n",
      "Rank 2 Inputs: [[1]]\n"
     ]
    }
   ]
  },
  {
   "cell_type": "code",
   "metadata": {
    "colab": {
     "base_uri": "https://localhost:8080/"
    },
    "id": "ELZLnXbbZbhm",
    "executionInfo": {
     "status": "ok",
     "timestamp": 1632646041285,
     "user_tz": -540,
     "elapsed": 17,
     "user": {
      "displayName": "Take Okamoto",
      "photoUrl": "https://lh3.googleusercontent.com/a-/AOh14GhVqmNnut5L-0ft4xro2ZbcGFAS-3j24RhttYBBuQ=s64",
      "userId": "05374417784101071994"
     }
    },
    "outputId": "265af4b1-8923-40f5-92d0-d744e85485bd"
   },
   "source": [
    "@tf.function\n",
    "def compute_z(a, b, c):\n",
    "    r1 = tf.subtract(a, b)\n",
    "    r2 = tf.multiply(2, r1)\n",
    "    z = tf.add(r2, c)\n",
    "    return z\n",
    "\n",
    "tf.print(\"Scalar Inputs:\", compute_z(1, 2, 3))\n",
    "tf.print(\"Rank 1 Inputs:\", compute_z([1], [2], [3]))\n",
    "tf.print(\"Rank 2 Inputs:\", compute_z([[1]], [[2]], [[3]]))"
   ],
   "execution_count": null,
   "outputs": [
    {
     "output_type": "stream",
     "name": "stdout",
     "text": [
      "Scalar Inputs: 1\n",
      "Rank 1 Inputs: [1]\n",
      "Rank 2 Inputs: [[1]]\n"
     ]
    }
   ]
  },
  {
   "cell_type": "code",
   "metadata": {
    "colab": {
     "base_uri": "https://localhost:8080/"
    },
    "id": "ESDkguHcacrn",
    "executionInfo": {
     "status": "ok",
     "timestamp": 1632646041286,
     "user_tz": -540,
     "elapsed": 15,
     "user": {
      "displayName": "Take Okamoto",
      "photoUrl": "https://lh3.googleusercontent.com/a-/AOh14GhVqmNnut5L-0ft4xro2ZbcGFAS-3j24RhttYBBuQ=s64",
      "userId": "05374417784101071994"
     }
    },
    "outputId": "069680d7-430f-4485-ef87-fe557466ed13"
   },
   "source": [
    "@tf.function(input_signature=(tf.TensorSpec(shape=[None], dtype=tf.int32), tf.TensorSpec(shape=[None], dtype=tf.int32), tf.TensorSpec(shape=[None], dtype=tf.int32),))\n",
    "def compute_z(a, b, c):\n",
    "    r1 = tf.subtract(a, b)\n",
    "    r2 = tf.multiply(2, r1)\n",
    "    z = tf.add(r2, c)\n",
    "    return z\n",
    "\n",
    "tf.print(\"Rank 1 Inputs:\", compute_z([1], [2], [3]))\n",
    "tf.print(\"Rank 2 Inputs:\", compute_z([1, 2], [2, 4], [3, 6]))"
   ],
   "execution_count": null,
   "outputs": [
    {
     "output_type": "stream",
     "name": "stdout",
     "text": [
      "Rank 1 Inputs: [1]\n",
      "Rank 2 Inputs: [1 2]\n"
     ]
    }
   ]
  },
  {
   "cell_type": "markdown",
   "metadata": {
    "id": "FDwsHpXjbIgF"
   },
   "source": [
    "## 14.3"
   ]
  },
  {
   "cell_type": "code",
   "metadata": {
    "colab": {
     "base_uri": "https://localhost:8080/"
    },
    "id": "AiSaU8i7a3L9",
    "executionInfo": {
     "status": "ok",
     "timestamp": 1632646041286,
     "user_tz": -540,
     "elapsed": 13,
     "user": {
      "displayName": "Take Okamoto",
      "photoUrl": "https://lh3.googleusercontent.com/a-/AOh14GhVqmNnut5L-0ft4xro2ZbcGFAS-3j24RhttYBBuQ=s64",
      "userId": "05374417784101071994"
     }
    },
    "outputId": "dc142dea-4ea8-4517-a92a-0437d02d2d83"
   },
   "source": [
    "a = tf.Variable(initial_value=3.14, name=\"var_a\")\n",
    "print(a)\n",
    "b = tf.Variable(initial_value=[1, 2, 3], name=\"var_b\")\n",
    "print(b)\n",
    "c = tf.Variable(initial_value=[True, False], dtype=tf.bool)\n",
    "print(c)\n",
    "d = tf.Variable(initial_value=[\"abc\"], dtype=tf.string)\n",
    "print(d)"
   ],
   "execution_count": null,
   "outputs": [
    {
     "output_type": "stream",
     "name": "stdout",
     "text": [
      "<tf.Variable 'var_a:0' shape=() dtype=float32, numpy=3.14>\n",
      "<tf.Variable 'var_b:0' shape=(3,) dtype=int32, numpy=array([1, 2, 3], dtype=int32)>\n",
      "<tf.Variable 'Variable:0' shape=(2,) dtype=bool, numpy=array([ True, False])>\n",
      "<tf.Variable 'Variable:0' shape=(1,) dtype=string, numpy=array([b'abc'], dtype=object)>\n"
     ]
    }
   ]
  },
  {
   "cell_type": "code",
   "metadata": {
    "colab": {
     "base_uri": "https://localhost:8080/"
    },
    "id": "gf4cpXlzxWKw",
    "executionInfo": {
     "status": "ok",
     "timestamp": 1632646041675,
     "user_tz": -540,
     "elapsed": 399,
     "user": {
      "displayName": "Take Okamoto",
      "photoUrl": "https://lh3.googleusercontent.com/a-/AOh14GhVqmNnut5L-0ft4xro2ZbcGFAS-3j24RhttYBBuQ=s64",
      "userId": "05374417784101071994"
     }
    },
    "outputId": "5fa612ac-6aff-4c01-c142-487d497adc16"
   },
   "source": [
    "w = tf.Variable([1, 2, 3], trainable=False)\n",
    "print(w.trainable)\n",
    "\n",
    "print(w.assign([3, 1, 4], read_value=True))\n",
    "w.assign_add([2, -1, 2], read_value=False)\n",
    "print(w.value())\n",
    "\n",
    "tf.random.set_seed(1)\n",
    "init = tf.keras.initializers.GlorotNormal()\n",
    "tf.print(init(shape=(3,)))\n",
    "\n",
    "v = tf.Variable(init(shape=(2, 3)))\n",
    "tf.print(v)\n",
    "\n",
    "class MyModule(tf.Module):\n",
    "    def __init__(self):\n",
    "        init = tf.keras.initializers.GlorotNormal()\n",
    "        self.w1 = tf.Variable(init(shape=(2, 3)), trainable=True)\n",
    "        self.w2 = tf.Variable(init(shape=(1, 2)), trainable=False)\n",
    "m = MyModule()\n",
    "print(\"All module variables:\", [v.shape for v in m.variables])\n",
    "print(\"Trainable variable:\", [v.shape for v in m.trainable_variables])\n",
    "\n",
    "tf.random.set_seed(1)\n",
    "w = tf.Variable(tf.random.uniform((3, 3)))\n",
    "@tf.function\n",
    "def compute_z(x):\n",
    "    return tf.matmul(w, x)\n",
    "x = tf.constant([[1], [2], [3]], dtype=tf.float32)\n",
    "tf.print(compute_z(x))"
   ],
   "execution_count": null,
   "outputs": [
    {
     "output_type": "stream",
     "name": "stdout",
     "text": [
      "False\n",
      "<tf.Variable 'UnreadVariable' shape=(3,) dtype=int32, numpy=array([3, 1, 4], dtype=int32)>\n",
      "tf.Tensor([5 0 6], shape=(3,), dtype=int32)\n",
      "[-0.722795904 1.01456821 0.251808226]\n",
      "[[0.28982234 -0.782292783 -0.0453658961]\n",
      " [0.960991383 -0.120003454 0.708528221]]\n",
      "All module variables: [TensorShape([2, 3]), TensorShape([1, 2])]\n",
      "Trainable variable: [TensorShape([2, 3])]\n",
      "[[3.8610158]\n",
      " [2.94593048]\n",
      " [3.82629013]]\n"
     ]
    }
   ]
  },
  {
   "cell_type": "markdown",
   "metadata": {
    "id": "i14fX6wh6SCs"
   },
   "source": [
    "## 14.4"
   ]
  },
  {
   "cell_type": "code",
   "metadata": {
    "colab": {
     "base_uri": "https://localhost:8080/"
    },
    "id": "azuFkRrY426J",
    "executionInfo": {
     "status": "ok",
     "timestamp": 1632646041676,
     "user_tz": -540,
     "elapsed": 21,
     "user": {
      "displayName": "Take Okamoto",
      "photoUrl": "https://lh3.googleusercontent.com/a-/AOh14GhVqmNnut5L-0ft4xro2ZbcGFAS-3j24RhttYBBuQ=s64",
      "userId": "05374417784101071994"
     }
    },
    "outputId": "e50e5a71-cca4-4b2c-b001-6711cc726d6e"
   },
   "source": [
    "w = tf.Variable(1.0)\n",
    "b = tf.Variable(0.5)\n",
    "print(w.trainable, b.trainable)\n",
    "\n",
    "x = tf.convert_to_tensor([1.4])\n",
    "y = tf.convert_to_tensor([2.1])\n",
    "with tf.GradientTape() as tape:\n",
    "    z = tf.add(tf.multiply(w, x), b)\n",
    "    loss = tf.reduce_sum(tf.square(y - z))\n",
    "dloss_dw = tape.gradient(loss, w)\n",
    "tf.print(\"dL/dw:\", dloss_dw)\n",
    "\n",
    "tf.print(2 * x * (w * x + b - y))"
   ],
   "execution_count": null,
   "outputs": [
    {
     "output_type": "stream",
     "name": "stdout",
     "text": [
      "True True\n",
      "dL/dw: -0.559999764\n",
      "[-0.559999764]\n"
     ]
    }
   ]
  },
  {
   "cell_type": "code",
   "metadata": {
    "colab": {
     "base_uri": "https://localhost:8080/"
    },
    "id": "FCWN08jMJqKh",
    "executionInfo": {
     "status": "ok",
     "timestamp": 1632646041676,
     "user_tz": -540,
     "elapsed": 16,
     "user": {
      "displayName": "Take Okamoto",
      "photoUrl": "https://lh3.googleusercontent.com/a-/AOh14GhVqmNnut5L-0ft4xro2ZbcGFAS-3j24RhttYBBuQ=s64",
      "userId": "05374417784101071994"
     }
    },
    "outputId": "393882da-4fed-43f3-89a1-e0bdcd566db3"
   },
   "source": [
    "with tf.GradientTape() as tape:\n",
    "    tape.watch(x)\n",
    "    z = tf.add(tf.multiply(w, x), b)\n",
    "    loss = tf.reduce_sum(tf.square(y - z))\n",
    "dloss_dx = tape.gradient(loss, x)\n",
    "tf.print(\"dL/dx:\", dloss_dx)"
   ],
   "execution_count": null,
   "outputs": [
    {
     "output_type": "stream",
     "name": "stdout",
     "text": [
      "dL/dx: [-0.399999857]\n"
     ]
    }
   ]
  },
  {
   "cell_type": "code",
   "metadata": {
    "colab": {
     "base_uri": "https://localhost:8080/"
    },
    "id": "NmV8ihoqJ2xB",
    "executionInfo": {
     "status": "ok",
     "timestamp": 1632646041677,
     "user_tz": -540,
     "elapsed": 14,
     "user": {
      "displayName": "Take Okamoto",
      "photoUrl": "https://lh3.googleusercontent.com/a-/AOh14GhVqmNnut5L-0ft4xro2ZbcGFAS-3j24RhttYBBuQ=s64",
      "userId": "05374417784101071994"
     }
    },
    "outputId": "e84f4c35-59f6-47c9-f3c0-a42563723360"
   },
   "source": [
    "with tf.GradientTape(persistent=True) as tape:\n",
    "    z = tf.add(tf.multiply(w, x), b)\n",
    "    loss = tf.reduce_sum(tf.square(y - z))\n",
    "dloss_dw = tape.gradient(loss, w)\n",
    "tf.print(\"dL/dw:\", dloss_dw)\n",
    "dloss_db = tape.gradient(loss, b)\n",
    "tf.print(\"dL/db:\", dloss_db)\n",
    "\n",
    "optimizer = tf.keras.optimizers.SGD()\n",
    "optimizer.apply_gradients(zip([dloss_dw, dloss_db], [w, b]))\n",
    "tf.print(\"Updated w:\", w)\n",
    "tf.print(\"Updated bias:\", b)"
   ],
   "execution_count": null,
   "outputs": [
    {
     "output_type": "stream",
     "name": "stdout",
     "text": [
      "dL/dw: -0.559999764\n",
      "dL/db: -0.399999857\n",
      "Updated w: 1.0056\n",
      "Updated bias: 0.504\n"
     ]
    }
   ]
  },
  {
   "cell_type": "markdown",
   "metadata": {
    "id": "YyWjR6y1Kzny"
   },
   "source": [
    "## 14.5"
   ]
  },
  {
   "cell_type": "code",
   "metadata": {
    "colab": {
     "base_uri": "https://localhost:8080/"
    },
    "id": "TTFBbqShKy9s",
    "executionInfo": {
     "status": "ok",
     "timestamp": 1632646041677,
     "user_tz": -540,
     "elapsed": 11,
     "user": {
      "displayName": "Take Okamoto",
      "photoUrl": "https://lh3.googleusercontent.com/a-/AOh14GhVqmNnut5L-0ft4xro2ZbcGFAS-3j24RhttYBBuQ=s64",
      "userId": "05374417784101071994"
     }
    },
    "outputId": "dc7afd2e-70d7-4227-a2b5-ff6ae8277994"
   },
   "source": [
    "model = tf.keras.Sequential()\n",
    "model.add(tf.keras.layers.Dense(units=16, activation=\"relu\"))\n",
    "model.add(tf.keras.layers.Dense(units=32, activation=\"relu\"))\n",
    "model.build(input_shape=(None, 4))\n",
    "model.summary()\n",
    "\n",
    "for v in model.variables:\n",
    "    print(\"{:20s}\".format(v.name), v.trainable, v.shape)\n",
    "\n",
    "model = tf.keras.Sequential()\n",
    "model.add(tf.keras.layers.Dense(\n",
    "    units=16,\n",
    "    activation=tf.keras.activations.relu,\n",
    "    kernel_initializer=tf.keras.initializers.glorot_uniform(),\n",
    "    bias_initializer=tf.initializers.Constant(2.0)\n",
    "))\n",
    "model.add(tf.keras.layers.Dense(\n",
    "    units=32,\n",
    "    activation=tf.keras.activations.sigmoid,\n",
    "    kernel_regularizer=tf.keras.regularizers.l1\n",
    "))\n",
    "\n",
    "model.compile(\n",
    "    optimizer=tf.keras.optimizers.SGD(learning_rate=0.001),\n",
    "    loss=tf.keras.losses.BinaryCrossentropy(),\n",
    "    metrics=[\n",
    "             tf.keras.metrics.Accuracy(),\n",
    "             tf.keras.metrics.Precision(),\n",
    "             tf.keras.metrics.Recall(),\n",
    "    ]\n",
    ")"
   ],
   "execution_count": null,
   "outputs": [
    {
     "output_type": "stream",
     "name": "stdout",
     "text": [
      "Model: \"sequential\"\n",
      "_________________________________________________________________\n",
      "Layer (type)                 Output Shape              Param #   \n",
      "=================================================================\n",
      "dense (Dense)                (None, 16)                80        \n",
      "_________________________________________________________________\n",
      "dense_1 (Dense)              (None, 32)                544       \n",
      "=================================================================\n",
      "Total params: 624\n",
      "Trainable params: 624\n",
      "Non-trainable params: 0\n",
      "_________________________________________________________________\n",
      "dense/kernel:0       True (4, 16)\n",
      "dense/bias:0         True (16,)\n",
      "dense_1/kernel:0     True (16, 32)\n",
      "dense_1/bias:0       True (32,)\n"
     ]
    }
   ]
  },
  {
   "cell_type": "code",
   "metadata": {
    "colab": {
     "base_uri": "https://localhost:8080/",
     "height": 394
    },
    "id": "DJK_0-sdUXJx",
    "executionInfo": {
     "status": "ok",
     "timestamp": 1632646042142,
     "user_tz": -540,
     "elapsed": 472,
     "user": {
      "displayName": "Take Okamoto",
      "photoUrl": "https://lh3.googleusercontent.com/a-/AOh14GhVqmNnut5L-0ft4xro2ZbcGFAS-3j24RhttYBBuQ=s64",
      "userId": "05374417784101071994"
     }
    },
    "outputId": "fb50fffa-3d77-4794-b20e-ea8ff9e21a19"
   },
   "source": [
    "tf.random.set_seed(1)\n",
    "np.random.seed(1)\n",
    "x = np.random.uniform(low=-1, high=1, size=(200, 2))\n",
    "y = np.ones(len(x))\n",
    "y[x[:, 0] * x[:, 1] < 0] = 0\n",
    "x_train = x[:100, :]\n",
    "y_train = y[:100]\n",
    "x_valid = x[100:, :]\n",
    "y_valid = y[100:]\n",
    "fig = plt.figure(figsize=(6, 6))\n",
    "plt.plot(x[y==0, 0], x[y==0, 1], \"o\", alpha=0.75, markersize=10)\n",
    "plt.plot(x[y==1, 0], x[y==1, 1], \"<\", alpha=0.75, markersize=10)\n",
    "plt.xlabel(r\"$x_1$\", size=15)\n",
    "plt.ylabel(r\"$x_2$\", size=15)\n",
    "plt.show()"
   ],
   "execution_count": null,
   "outputs": [
    {
     "output_type": "display_data",
     "data": {
      "image/png": "[encoded data removed]",
      "text/plain": [
       "<Figure size 432x432 with 1 Axes>"
      ]
     },
     "metadata": {}
    }
   ]
  },
  {
   "cell_type": "code",
   "metadata": {
    "colab": {
     "base_uri": "https://localhost:8080/"
    },
    "id": "ojR_1YEcjY7S",
    "executionInfo": {
     "status": "ok",
     "timestamp": 1632646062922,
     "user_tz": -540,
     "elapsed": 20787,
     "user": {
      "displayName": "Take Okamoto",
      "photoUrl": "https://lh3.googleusercontent.com/a-/AOh14GhVqmNnut5L-0ft4xro2ZbcGFAS-3j24RhttYBBuQ=s64",
      "userId": "05374417784101071994"
     }
    },
    "outputId": "208919cb-07f0-4b7e-fda6-8afb69b5e599"
   },
   "source": [
    "model = tf.keras.Sequential()\n",
    "model.add(tf.keras.layers.Dense(units=1, input_shape=(2,), activation=\"sigmoid\"))\n",
    "model.summary()\n",
    "\n",
    "model.compile(optimizer=tf.keras.optimizers.SGD(), loss=tf.keras.losses.BinaryCrossentropy(), metrics=[tf.keras.metrics.BinaryAccuracy()])\n",
    "hist = model.fit(x_train, y_train, validation_data=(x_valid, y_valid), epochs=200, batch_size=2, verbose=0)  # そこそこ時間かかる"
   ],
   "execution_count": null,
   "outputs": [
    {
     "output_type": "stream",
     "name": "stdout",
     "text": [
      "Model: \"sequential_2\"\n",
      "_________________________________________________________________\n",
      "Layer (type)                 Output Shape              Param #   \n",
      "=================================================================\n",
      "dense_4 (Dense)              (None, 1)                 3         \n",
      "=================================================================\n",
      "Total params: 3\n",
      "Trainable params: 3\n",
      "Non-trainable params: 0\n",
      "_________________________________________________________________\n"
     ]
    }
   ]
  },
  {
   "cell_type": "code",
   "metadata": {
    "colab": {
     "base_uri": "https://localhost:8080/",
     "height": 382
    },
    "id": "pQWUg1Ea1lZa",
    "executionInfo": {
     "status": "ok",
     "timestamp": 1632646069335,
     "user_tz": -540,
     "elapsed": 6450,
     "user": {
      "displayName": "Take Okamoto",
      "photoUrl": "https://lh3.googleusercontent.com/a-/AOh14GhVqmNnut5L-0ft4xro2ZbcGFAS-3j24RhttYBBuQ=s64",
      "userId": "05374417784101071994"
     }
    },
    "outputId": "3b103ec0-1538-4439-9c77-d668a9de0e65"
   },
   "source": [
    "def tf_plot(model, hist):\n",
    "    history = hist.history\n",
    "    fig = plt.figure(figsize=(16, 4))\n",
    "    ax = fig.add_subplot(1, 3, 1)\n",
    "    plt.plot(history[\"loss\"], lw=4)\n",
    "    plt.plot(history[\"val_loss\"], lw=4)\n",
    "    plt.legend([\"Train loss\", \"Validation loss\"], fontsize=15)\n",
    "    ax.set_xlabel(\"Epochs\", size=15)\n",
    "    ax = fig.add_subplot(1, 3, 2)\n",
    "    plt.plot(history[\"binary_accuracy\"], lw=4)\n",
    "    plt.plot(history[\"val_binary_accuracy\"], lw=4)\n",
    "    plt.legend([\"Train Acc.\", \"Validation Acc.\"], fontsize=15)\n",
    "    ax.set_xlabel(\"Epochs\", size=15)\n",
    "    ax = fig.add_subplot(1, 3, 3)\n",
    "    plot_decision_regions(X=x_valid, y=y_valid.astype(np.integer), clf=model)\n",
    "    ax.set_xlabel(r\"$x_1$\", size=15)\n",
    "    ax.xaxis.set_label_coords(1, -0.025)\n",
    "    ax.set_ylabel(r\"$x_2$\", size=15)\n",
    "    ax.yaxis.set_label_coords(-0.025, 1)\n",
    "    plt.show()\n",
    "\n",
    "tf_plot(model, hist)"
   ],
   "execution_count": null,
   "outputs": [
    {
     "output_type": "stream",
     "name": "stderr",
     "text": [
      "/usr/local/lib/python3.7/dist-packages/ipykernel_launcher.py:15: DeprecationWarning: Converting `np.integer` or `np.signedinteger` to a dtype is deprecated. The current result is `np.dtype(np.int_)` which is not strictly correct. Note that the result depends on the system. To ensure stable results use may want to use `np.int64` or `np.int32`.\n",
      "  from ipykernel import kernelapp as app\n",
      "/usr/local/lib/python3.7/dist-packages/mlxtend/plotting/decision_regions.py:244: MatplotlibDeprecationWarning: Passing unsupported keyword arguments to axis() will raise a TypeError in 3.3.\n",
      "  ax.axis(xmin=xx.min(), xmax=xx.max(), y_min=yy.min(), y_max=yy.max())\n"
     ]
    },
    {
     "output_type": "display_data",
     "data": {
      "image/png": "[encoded data removed]",
      "text/plain": [
       "<Figure size 1152x288 with 3 Axes>"
      ]
     },
     "metadata": {}
    }
   ]
  },
  {
   "cell_type": "code",
   "metadata": {
    "colab": {
     "base_uri": "https://localhost:8080/",
     "height": 660
    },
    "id": "sZzn4vBx16Ak",
    "executionInfo": {
     "status": "ok",
     "timestamp": 1632646118100,
     "user_tz": -540,
     "elapsed": 48799,
     "user": {
      "displayName": "Take Okamoto",
      "photoUrl": "https://lh3.googleusercontent.com/a-/AOh14GhVqmNnut5L-0ft4xro2ZbcGFAS-3j24RhttYBBuQ=s64",
      "userId": "05374417784101071994"
     }
    },
    "outputId": "d1193b1b-a6b8-43f4-da26-1b8f5857b5fc"
   },
   "source": [
    "tf.random.set_seed(1)\n",
    "model = tf.keras.Sequential()\n",
    "model.add(tf.keras.layers.Dense(units=4, input_shape=(2,), activation=\"relu\"))\n",
    "model.add(tf.keras.layers.Dense(units=4, activation=\"relu\"))\n",
    "model.add(tf.keras.layers.Dense(units=4, activation=\"relu\"))\n",
    "model.add(tf.keras.layers.Dense(units=1, activation=\"sigmoid\"))\n",
    "model.summary()\n",
    "\n",
    "model.compile(optimizer=tf.keras.optimizers.SGD(), loss=tf.keras.losses.BinaryCrossentropy(), metrics=[tf.keras.metrics.BinaryAccuracy()])\n",
    "hist = model.fit(x_train, y_train, validation_data=(x_valid, y_valid), epochs=200, batch_size=2, verbose=0)  # そこそこ時間かかる\n",
    "\n",
    "tf_plot(model, hist)"
   ],
   "execution_count": null,
   "outputs": [
    {
     "output_type": "stream",
     "name": "stdout",
     "text": [
      "Model: \"sequential_3\"\n",
      "_________________________________________________________________\n",
      "Layer (type)                 Output Shape              Param #   \n",
      "=================================================================\n",
      "dense_5 (Dense)              (None, 4)                 12        \n",
      "_________________________________________________________________\n",
      "dense_6 (Dense)              (None, 4)                 20        \n",
      "_________________________________________________________________\n",
      "dense_7 (Dense)              (None, 4)                 20        \n",
      "_________________________________________________________________\n",
      "dense_8 (Dense)              (None, 1)                 5         \n",
      "=================================================================\n",
      "Total params: 57\n",
      "Trainable params: 57\n",
      "Non-trainable params: 0\n",
      "_________________________________________________________________\n"
     ]
    },
    {
     "output_type": "stream",
     "name": "stderr",
     "text": [
      "/usr/local/lib/python3.7/dist-packages/ipykernel_launcher.py:15: DeprecationWarning: Converting `np.integer` or `np.signedinteger` to a dtype is deprecated. The current result is `np.dtype(np.int_)` which is not strictly correct. Note that the result depends on the system. To ensure stable results use may want to use `np.int64` or `np.int32`.\n",
      "  from ipykernel import kernelapp as app\n",
      "/usr/local/lib/python3.7/dist-packages/mlxtend/plotting/decision_regions.py:244: MatplotlibDeprecationWarning: Passing unsupported keyword arguments to axis() will raise a TypeError in 3.3.\n",
      "  ax.axis(xmin=xx.min(), xmax=xx.max(), y_min=yy.min(), y_max=yy.max())\n"
     ]
    },
    {
     "output_type": "display_data",
     "data": {
      "image/png": "[encoded data removed]",
      "text/plain": [
       "<Figure size 1152x288 with 3 Axes>"
      ]
     },
     "metadata": {}
    }
   ]
  },
  {
   "cell_type": "code",
   "metadata": {
    "colab": {
     "base_uri": "https://localhost:8080/",
     "height": 695
    },
    "id": "zcWqRJ9n6Lay",
    "executionInfo": {
     "status": "ok",
     "timestamp": 1632646170121,
     "user_tz": -540,
     "elapsed": 52037,
     "user": {
      "displayName": "Take Okamoto",
      "photoUrl": "https://lh3.googleusercontent.com/a-/AOh14GhVqmNnut5L-0ft4xro2ZbcGFAS-3j24RhttYBBuQ=s64",
      "userId": "05374417784101071994"
     }
    },
    "outputId": "7ffa65b3-f4f2-4500-9a5a-08adfaeef772"
   },
   "source": [
    "tf.random.set_seed(1)\n",
    "inputs = tf.keras.Input(shape=(2,))\n",
    "h1 = tf.keras.layers.Dense(units=4, activation=\"relu\")(inputs)\n",
    "h2 = tf.keras.layers.Dense(units=4, activation=\"relu\")(h1)\n",
    "h3 = tf.keras.layers.Dense(units=4, activation=\"relu\")(h2)\n",
    "outputs = tf.keras.layers.Dense(units=1, activation=\"sigmoid\")(h3)\n",
    "model = tf.keras.Model(inputs=inputs, outputs=outputs)\n",
    "model.summary()\n",
    "\n",
    "model.compile(optimizer=tf.keras.optimizers.SGD(), loss=tf.keras.losses.BinaryCrossentropy(), metrics=[tf.keras.metrics.BinaryAccuracy()])\n",
    "hist = model.fit(x_train, y_train, validation_data=(x_valid, y_valid), epochs=200, batch_size=2, verbose=0)  # そこそこ時間かかる\n",
    "\n",
    "tf_plot(model, hist)"
   ],
   "execution_count": null,
   "outputs": [
    {
     "output_type": "stream",
     "name": "stdout",
     "text": [
      "Model: \"model\"\n",
      "_________________________________________________________________\n",
      "Layer (type)                 Output Shape              Param #   \n",
      "=================================================================\n",
      "input_1 (InputLayer)         [(None, 2)]               0         \n",
      "_________________________________________________________________\n",
      "dense_9 (Dense)              (None, 4)                 12        \n",
      "_________________________________________________________________\n",
      "dense_10 (Dense)             (None, 4)                 20        \n",
      "_________________________________________________________________\n",
      "dense_11 (Dense)             (None, 4)                 20        \n",
      "_________________________________________________________________\n",
      "dense_12 (Dense)             (None, 1)                 5         \n",
      "=================================================================\n",
      "Total params: 57\n",
      "Trainable params: 57\n",
      "Non-trainable params: 0\n",
      "_________________________________________________________________\n"
     ]
    },
    {
     "output_type": "stream",
     "name": "stderr",
     "text": [
      "/usr/local/lib/python3.7/dist-packages/ipykernel_launcher.py:15: DeprecationWarning: Converting `np.integer` or `np.signedinteger` to a dtype is deprecated. The current result is `np.dtype(np.int_)` which is not strictly correct. Note that the result depends on the system. To ensure stable results use may want to use `np.int64` or `np.int32`.\n",
      "  from ipykernel import kernelapp as app\n",
      "/usr/local/lib/python3.7/dist-packages/mlxtend/plotting/decision_regions.py:244: MatplotlibDeprecationWarning: Passing unsupported keyword arguments to axis() will raise a TypeError in 3.3.\n",
      "  ax.axis(xmin=xx.min(), xmax=xx.max(), y_min=yy.min(), y_max=yy.max())\n"
     ]
    },
    {
     "output_type": "display_data",
     "data": {
      "image/png": "[encoded data removed]",
      "text/plain": [
       "<Figure size 1152x288 with 3 Axes>"
      ]
     },
     "metadata": {}
    }
   ]
  },
  {
   "cell_type": "code",
   "metadata": {
    "id": "gQqSyPyy7ZHD"
   },
   "source": [
    "class MyModel(tf.keras.Model):\n",
    "    def __init__(self):\n",
    "        super(MyModel, self).__init__()\n",
    "        self.hidden_1 = tf.keras.layers.Dense(units=4, activation=\"relu\")\n",
    "        self.hidden_2 = tf.keras.layers.Dense(units=4, activation=\"relu\")\n",
    "        self.hidden_3 = tf.keras.layers.Dense(units=4, activation=\"relu\")\n",
    "        self.output_layer = tf.keras.layers.Dense(units=1, activation=\"sigmoid\")\n",
    "    \n",
    "    def call(self, inputs):\n",
    "        h = self.hidden_1(inputs)\n",
    "        h = self.hidden_2(h)\n",
    "        h = self.hidden_3(h)\n",
    "        return self.output_layer(h)"
   ],
   "execution_count": null,
   "outputs": []
  },
  {
   "cell_type": "code",
   "metadata": {
    "colab": {
     "base_uri": "https://localhost:8080/",
     "height": 660
    },
    "id": "qA-1WKaz8d4D",
    "executionInfo": {
     "status": "ok",
     "timestamp": 1632646222408,
     "user_tz": -540,
     "elapsed": 52301,
     "user": {
      "displayName": "Take Okamoto",
      "photoUrl": "https://lh3.googleusercontent.com/a-/AOh14GhVqmNnut5L-0ft4xro2ZbcGFAS-3j24RhttYBBuQ=s64",
      "userId": "05374417784101071994"
     }
    },
    "outputId": "bf116567-f10b-455c-a52a-5994abf44a66"
   },
   "source": [
    "tf.random.set_seed(1)\n",
    "model = MyModel()\n",
    "model.build(input_shape=(None, 2))\n",
    "model.summary()\n",
    "model.compile(optimizer=tf.keras.optimizers.SGD(), loss=tf.keras.losses.BinaryCrossentropy(), metrics=[tf.keras.metrics.BinaryAccuracy()])\n",
    "hist = model.fit(x_train, y_train, validation_data=(x_valid, y_valid), epochs=200, batch_size=2, verbose=0)  # そこそこ時間かかる\n",
    "\n",
    "tf_plot(model, hist)"
   ],
   "execution_count": null,
   "outputs": [
    {
     "output_type": "stream",
     "name": "stdout",
     "text": [
      "Model: \"my_model\"\n",
      "_________________________________________________________________\n",
      "Layer (type)                 Output Shape              Param #   \n",
      "=================================================================\n",
      "dense_13 (Dense)             multiple                  12        \n",
      "_________________________________________________________________\n",
      "dense_14 (Dense)             multiple                  20        \n",
      "_________________________________________________________________\n",
      "dense_15 (Dense)             multiple                  20        \n",
      "_________________________________________________________________\n",
      "dense_16 (Dense)             multiple                  5         \n",
      "=================================================================\n",
      "Total params: 57\n",
      "Trainable params: 57\n",
      "Non-trainable params: 0\n",
      "_________________________________________________________________\n"
     ]
    },
    {
     "output_type": "stream",
     "name": "stderr",
     "text": [
      "/usr/local/lib/python3.7/dist-packages/ipykernel_launcher.py:15: DeprecationWarning: Converting `np.integer` or `np.signedinteger` to a dtype is deprecated. The current result is `np.dtype(np.int_)` which is not strictly correct. Note that the result depends on the system. To ensure stable results use may want to use `np.int64` or `np.int32`.\n",
      "  from ipykernel import kernelapp as app\n",
      "/usr/local/lib/python3.7/dist-packages/mlxtend/plotting/decision_regions.py:244: MatplotlibDeprecationWarning: Passing unsupported keyword arguments to axis() will raise a TypeError in 3.3.\n",
      "  ax.axis(xmin=xx.min(), xmax=xx.max(), y_min=yy.min(), y_max=yy.max())\n"
     ]
    },
    {
     "output_type": "display_data",
     "data": {
      "image/png": "[encoded data removed]",
      "text/plain": [
       "<Figure size 1152x288 with 3 Axes>"
      ]
     },
     "metadata": {}
    }
   ]
  },
  {
   "cell_type": "code",
   "metadata": {
    "id": "_83zoTwQ9Awj"
   },
   "source": [
    "class NoisyLinear(tf.keras.layers.Layer):\n",
    "    def __init__(self, output_dim, noise_stddev=0.1, **kwargs):\n",
    "        self.output_dim = output_dim\n",
    "        self.noise_stddev = noise_stddev\n",
    "        super(NoisyLinear, self).__init__(**kwargs)\n",
    "    \n",
    "    def build(self, input_shape):\n",
    "        self.w = self.add_weight(name=\"weights\", shape=(input_shape[1], self.output_dim), initializer=\"random_normal\", trainable=True)\n",
    "        self.b = self.add_weight(shape=(self.output_dim,), initializer=\"zeros\", trainable=True)\n",
    "    \n",
    "    def call(self, inputs, training=False):\n",
    "        if training:\n",
    "            batch = tf.shape(inputs)[0]\n",
    "            dim = tf.shape(inputs)[1]\n",
    "            noise = tf.random.normal(shape=(batch, dim), mean=0.0, stddev=self.noise_stddev)\n",
    "            noisy_inputs = tf.add(inputs, noise)\n",
    "        else:\n",
    "            noisy_inputs = inputs\n",
    "        \n",
    "        z = tf.matmul(noisy_inputs, self.w) + self.b\n",
    "        return tf.keras.activations.relu(z)\n",
    "    \n",
    "    def get_config(self):\n",
    "        config = super(NoisyLinear, self).get_config()\n",
    "        config.update({\"output_dim\": self.output_dim, \"noise_stddev\": self.noise_stddev})\n",
    "        return config"
   ],
   "execution_count": null,
   "outputs": []
  },
  {
   "cell_type": "code",
   "metadata": {
    "colab": {
     "base_uri": "https://localhost:8080/",
     "height": 695
    },
    "id": "0_Jlw0BJ_IQb",
    "executionInfo": {
     "status": "ok",
     "timestamp": 1632646271194,
     "user_tz": -540,
     "elapsed": 48798,
     "user": {
      "displayName": "Take Okamoto",
      "photoUrl": "https://lh3.googleusercontent.com/a-/AOh14GhVqmNnut5L-0ft4xro2ZbcGFAS-3j24RhttYBBuQ=s64",
      "userId": "05374417784101071994"
     }
    },
    "outputId": "a2aa5a4b-8606-4551-b56a-4973779a1409"
   },
   "source": [
    "tf.random.set_seed(1)\n",
    "noisy_layer = NoisyLinear(4)\n",
    "noisy_layer.build(input_shape=(None, 4))\n",
    "x = tf.zeros(shape=(1, 4))\n",
    "tf.print(noisy_layer(x, training=True))\n",
    "\n",
    "config = noisy_layer.get_config()\n",
    "new_layer = NoisyLinear.from_config(config)\n",
    "tf.print(new_layer(x, training=True))\n",
    "\n",
    "tf.random.set_seed(1)\n",
    "model = tf.keras.Sequential([\n",
    "                             NoisyLinear(4, noise_stddev=0.1),\n",
    "                             tf.keras.layers.Dense(units=4, activation=\"relu\"),\n",
    "                             tf.keras.layers.Dense(units=4, activation=\"relu\"),\n",
    "                             tf.keras.layers.Dense(units=1, activation=\"sigmoid\")\n",
    "                             ])\n",
    "model.build(input_shape=(None, 2))\n",
    "model.summary()\n",
    "\n",
    "model.compile(optimizer=tf.keras.optimizers.SGD(), loss=tf.keras.losses.BinaryCrossentropy(), metrics=[tf.keras.metrics.BinaryAccuracy()])\n",
    "hist = model.fit(x_train, y_train, validation_data=(x_valid, y_valid), epochs=200, batch_size=2, verbose=0)  # そこそこ時間かかる\n",
    "\n",
    "tf_plot(model, hist)"
   ],
   "execution_count": null,
   "outputs": [
    {
     "output_type": "stream",
     "name": "stdout",
     "text": [
      "[[0 0.00821428 0 0]]\n",
      "[[0 0.0108502861 0 0]]\n",
      "Model: \"sequential_4\"\n",
      "_________________________________________________________________\n",
      "Layer (type)                 Output Shape              Param #   \n",
      "=================================================================\n",
      "noisy_linear_1 (NoisyLinear) (None, 4)                 12        \n",
      "_________________________________________________________________\n",
      "dense_17 (Dense)             (None, 4)                 20        \n",
      "_________________________________________________________________\n",
      "dense_18 (Dense)             (None, 4)                 20        \n",
      "_________________________________________________________________\n",
      "dense_19 (Dense)             (None, 1)                 5         \n",
      "=================================================================\n",
      "Total params: 57\n",
      "Trainable params: 57\n",
      "Non-trainable params: 0\n",
      "_________________________________________________________________\n"
     ]
    },
    {
     "output_type": "stream",
     "name": "stderr",
     "text": [
      "/usr/local/lib/python3.7/dist-packages/ipykernel_launcher.py:15: DeprecationWarning: Converting `np.integer` or `np.signedinteger` to a dtype is deprecated. The current result is `np.dtype(np.int_)` which is not strictly correct. Note that the result depends on the system. To ensure stable results use may want to use `np.int64` or `np.int32`.\n",
      "  from ipykernel import kernelapp as app\n",
      "/usr/local/lib/python3.7/dist-packages/mlxtend/plotting/decision_regions.py:244: MatplotlibDeprecationWarning: Passing unsupported keyword arguments to axis() will raise a TypeError in 3.3.\n",
      "  ax.axis(xmin=xx.min(), xmax=xx.max(), y_min=yy.min(), y_max=yy.max())\n"
     ]
    },
    {
     "output_type": "display_data",
     "data": {
      "image/png": "[encoded data removed]",
      "text/plain": [
       "<Figure size 1152x288 with 3 Axes>"
      ]
     },
     "metadata": {}
    }
   ]
  },
  {
   "cell_type": "markdown",
   "metadata": {
    "id": "zeTsZRgmB5xl"
   },
   "source": [
    "## 14.6"
   ]
  },
  {
   "cell_type": "code",
   "metadata": {
    "id": "JDAPNEcQB27K",
    "executionInfo": {
     "status": "ok",
     "timestamp": 1632653868108,
     "user_tz": -540,
     "elapsed": 261,
     "user": {
      "displayName": "Take Okamoto",
      "photoUrl": "https://lh3.googleusercontent.com/a-/AOh14GhVqmNnut5L-0ft4xro2ZbcGFAS-3j24RhttYBBuQ=s64",
      "userId": "05374417784101071994"
     }
    }
   },
   "source": [
    "dataset_path = tf.keras.utils.get_file(colab_path+\"auto-mpg.data\", (\"http://archive.ics.uci.edu/ml/machine-learning-databases/auto-mpg/auto-mpg.data\"))\n",
    "column_names = [\"MPG\", \"Cylinders\", \"Displacement\", \"Horsepower\", \"Weight\", \"Acceleration\", \"ModelYear\", \"Origin\"]\n",
    "df = pd.read_csv(dataset_path, names=column_names, na_values=\"?\", comment=\"\\t\", sep=\" \", skipinitialspace=True)"
   ],
   "execution_count": 58,
   "outputs": []
  },
  {
   "cell_type": "code",
   "metadata": {
    "colab": {
     "base_uri": "https://localhost:8080/"
    },
    "id": "ffnWlhXrnKR5",
    "executionInfo": {
     "status": "ok",
     "timestamp": 1632653869626,
     "user_tz": -540,
     "elapsed": 295,
     "user": {
      "displayName": "Take Okamoto",
      "photoUrl": "https://lh3.googleusercontent.com/a-/AOh14GhVqmNnut5L-0ft4xro2ZbcGFAS-3j24RhttYBBuQ=s64",
      "userId": "05374417784101071994"
     }
    },
    "outputId": "035df49f-a3ac-4156-b973-d9c518ee0c55"
   },
   "source": [
    "df = df.dropna()\n",
    "df = df.reset_index(drop=True)\n",
    "df_train, df_test = sklearn.model_selection.train_test_split(df, train_size=0.8)\n",
    "train_stats = df_train.describe().transpose()\n",
    "numeric_column_names = [\"Cylinders\", \"Displacement\", \"Horsepower\", \"Weight\", \"Acceleration\"]\n",
    "df_train_norm, df_test_norm = df_train.copy(), df_test.copy()\n",
    "for col_name in numeric_column_names:\n",
    "    mean = train_stats.loc[col_name, \"mean\"]\n",
    "    std = train_stats.loc[col_name, \"std\"]\n",
    "    df_train_norm.loc[:, col_name] = (df_train_norm.loc[:, col_name] - mean) / std\n",
    "    df_test_norm.loc[:, col_name] = (df_test_norm.loc[:, col_name] - mean) / std\n",
    "print(df_train_norm.tail())\n",
    "\n",
    "numeric_features = []\n",
    "for col_name in numeric_column_names:\n",
    "    numeric_features.append(tf.feature_column.numeric_column(key=col_name))\n",
    "\n",
    "feature_year = tf.feature_column.numeric_column(key=\"ModelYear\")\n",
    "bucketized_features = []\n",
    "bucketized_features.append(tf.feature_column.bucketized_column(source_column=feature_year, boundaries=[73, 76, 79]))\n",
    "\n",
    "feature_origin = tf.feature_column.categorical_column_with_vocabulary_list(key=\"Origin\", vocabulary_list=[1, 2, 3])\n",
    "\n",
    "categorical_indicator_features = []\n",
    "categorical_indicator_features.append(tf.feature_column.indicator_column(feature_origin))"
   ],
   "execution_count": 59,
   "outputs": [
    {
     "output_type": "stream",
     "name": "stdout",
     "text": [
      "      MPG  Cylinders  Displacement  ...  Acceleration  ModelYear  Origin\n",
      "299  34.2  -0.836182     -0.837172  ...     -0.902880         79       1\n",
      "283  17.0   1.532370      1.115943  ...     -0.094503         79       1\n",
      "211  13.0   1.532370      1.555393  ...     -1.343814         76       1\n",
      "176  23.0  -0.836182     -0.690688  ...      0.493409         75       2\n",
      "199  18.5   0.348094      0.578836  ...      0.199453         76       1\n",
      "\n",
      "[5 rows x 8 columns]\n"
     ]
    }
   ]
  },
  {
   "cell_type": "code",
   "metadata": {
    "colab": {
     "base_uri": "https://localhost:8080/"
    },
    "id": "0s43kqYtuHcQ",
    "executionInfo": {
     "status": "ok",
     "timestamp": 1632646271813,
     "user_tz": -540,
     "elapsed": 254,
     "user": {
      "displayName": "Take Okamoto",
      "photoUrl": "https://lh3.googleusercontent.com/a-/AOh14GhVqmNnut5L-0ft4xro2ZbcGFAS-3j24RhttYBBuQ=s64",
      "userId": "05374417784101071994"
     }
    },
    "outputId": "403e7e81-41ff-47ab-aeeb-0c3df665f8ec"
   },
   "source": [
    "def train_input_fn(df_train, batch_size=8):\n",
    "    df = df_train.copy()\n",
    "    train_x, train_y = df, df.pop(\"MPG\")\n",
    "    dataset = tf.data.Dataset.from_tensor_slices((dict(train_x), train_y))\n",
    "    return dataset.shuffle(1000).repeat().batch(batch_size)\n",
    "\n",
    "ds = train_input_fn(df_train_norm)\n",
    "batch = next(iter(ds))\n",
    "print(\"Keys:\", batch[0].keys())\n",
    "print(\"Batch Model Years:\", batch[0][\"ModelYear\"])\n",
    "\n",
    "def eval_input_fn(df_test, batch_size=8):\n",
    "    df = df_test.copy()\n",
    "    test_x, test_y = df, df.pop(\"MPG\")\n",
    "    dataset = tf.data.Dataset.from_tensor_slices((dict(test_x), test_y))\n",
    "    return dataset.batch(batch_size)"
   ],
   "execution_count": null,
   "outputs": [
    {
     "output_type": "stream",
     "name": "stdout",
     "text": [
      "Keys: dict_keys(['Cylinders', 'Displacement', 'Horsepower', 'Weight', 'Acceleration', 'ModelYear', 'Origin'])\n",
      "Batch Model Years: tf.Tensor([80 80 78 76 75 78 71 76], shape=(8,), dtype=int64)\n"
     ]
    }
   ]
  },
  {
   "cell_type": "code",
   "metadata": {
    "id": "kevKRjDPv9Bo"
   },
   "source": [
    "all_features_columns = (numeric_features + bucketized_features + categorical_indicator_features)"
   ],
   "execution_count": null,
   "outputs": []
  },
  {
   "cell_type": "code",
   "metadata": {
    "colab": {
     "base_uri": "https://localhost:8080/"
    },
    "id": "N_Qs2e__Tiyy",
    "executionInfo": {
     "status": "ok",
     "timestamp": 1632646543137,
     "user_tz": -540,
     "elapsed": 257,
     "user": {
      "displayName": "Take Okamoto",
      "photoUrl": "https://lh3.googleusercontent.com/a-/AOh14GhVqmNnut5L-0ft4xro2ZbcGFAS-3j24RhttYBBuQ=s64",
      "userId": "05374417784101071994"
     }
    },
    "outputId": "824dff05-48b9-4fd5-b441-1ea5fecd2b6d"
   },
   "source": [
    "regressor = tf.estimator.DNNRegressor(feature_columns=all_features_columns, hidden_units=[32, 10], model_dir=colab_path+\"models/autompg-dnnregressor/\")"
   ],
   "execution_count": null,
   "outputs": [
    {
     "output_type": "stream",
     "name": "stdout",
     "text": [
      "INFO:tensorflow:Using default config.\n",
      "INFO:tensorflow:Using config: {'_model_dir': '/content/drive/MyDrive/100programming/pythonML/models/autompg-dnnregressor/', '_tf_random_seed': None, '_save_summary_steps': 100, '_save_checkpoints_steps': None, '_save_checkpoints_secs': 600, '_session_config': allow_soft_placement: true\n",
      "graph_options {\n",
      "  rewrite_options {\n",
      "    meta_optimizer_iterations: ONE\n",
      "  }\n",
      "}\n",
      ", '_keep_checkpoint_max': 5, '_keep_checkpoint_every_n_hours': 10000, '_log_step_count_steps': 100, '_train_distribute': None, '_device_fn': None, '_protocol': None, '_eval_distribute': None, '_experimental_distribute': None, '_experimental_max_worker_delay_secs': None, '_session_creation_timeout_secs': 7200, '_checkpoint_save_graph_def': True, '_service': None, '_cluster_spec': ClusterSpec({}), '_task_type': 'worker', '_task_id': 0, '_global_id_in_cluster': 0, '_master': '', '_evaluation_master': '', '_is_chief': True, '_num_ps_replicas': 0, '_num_worker_replicas': 1}\n"
     ]
    }
   ]
  },
  {
   "cell_type": "code",
   "metadata": {
    "colab": {
     "base_uri": "https://localhost:8080/"
    },
    "id": "hPrDKKyiUTSq",
    "executionInfo": {
     "status": "ok",
     "timestamp": 1632647149385,
     "user_tz": -540,
     "elapsed": 41242,
     "user": {
      "displayName": "Take Okamoto",
      "photoUrl": "https://lh3.googleusercontent.com/a-/AOh14GhVqmNnut5L-0ft4xro2ZbcGFAS-3j24RhttYBBuQ=s64",
      "userId": "05374417784101071994"
     }
    },
    "outputId": "3d1d7cfd-eaa3-48dd-ced4-fbf9fa46bc11"
   },
   "source": [
    "EPOCHS = 1000\n",
    "BATCH_SIZE = 8\n",
    "total_steps = EPOCHS * int(np.ceil(len(df_train) / BATCH_SIZE))\n",
    "print(\"Training Steps:\", total_steps)\n",
    "\n",
    "regressor.train(input_fn=lambda:train_input_fn(df_train_norm, batch_size=BATCH_SIZE), steps=total_steps)  # 時間かかる\n",
    "\n",
    "reloaded_regressor = tf.estimator.DNNRegressor(\n",
    "    feature_columns=all_features_columns,\n",
    "    hidden_units=[32, 10],\n",
    "    warm_start_from=colab_path+\"models/autompg-dnnregressor/\",\n",
    "    model_dir=colab_path+\"models/autompg-dnnregressor/\"\n",
    ")\n",
    "\n",
    "eval_results = reloaded_regressor.evaluate(input_fn=lambda:eval_input_fn(df_test_norm, batch_size=8))\n",
    "print(\"Average-Loss {:.4f}\".format(eval_results[\"average_loss\"]))\n",
    "\n",
    "pred_res = regressor.predict(input_fn=lambda: eval_input_fn(df_test_norm, batch_size=8))\n",
    "print(next(iter(pred_res)))"
   ],
   "execution_count": null,
   "outputs": [
    {
     "output_type": "stream",
     "name": "stdout",
     "text": [
      "Training Steps: 40000\n",
      "INFO:tensorflow:Calling model_fn.\n",
      "INFO:tensorflow:Done calling model_fn.\n",
      "INFO:tensorflow:Create CheckpointSaverHook.\n",
      "INFO:tensorflow:Graph was finalized.\n",
      "INFO:tensorflow:Restoring parameters from /content/drive/MyDrive/100programming/pythonML/models/autompg-dnnregressor/model.ckpt-40000\n",
      "WARNING:tensorflow:From /usr/local/lib/python3.7/dist-packages/tensorflow/python/training/saver.py:1078: get_checkpoint_mtimes (from tensorflow.python.training.checkpoint_management) is deprecated and will be removed in a future version.\n",
      "Instructions for updating:\n",
      "Use standard file utilities to get mtimes.\n",
      "INFO:tensorflow:Running local_init_op.\n",
      "INFO:tensorflow:Done running local_init_op.\n",
      "INFO:tensorflow:Calling checkpoint listeners before saving checkpoint 40000...\n",
      "INFO:tensorflow:Saving checkpoints for 40000 into /content/drive/MyDrive/100programming/pythonML/models/autompg-dnnregressor/model.ckpt.\n",
      "INFO:tensorflow:Calling checkpoint listeners after saving checkpoint 40000...\n",
      "INFO:tensorflow:loss = 23.827274, step = 40000\n",
      "INFO:tensorflow:global_step/sec: 719.691\n",
      "INFO:tensorflow:loss = 3.4269574, step = 40100 (0.143 sec)\n",
      "INFO:tensorflow:global_step/sec: 1058.29\n",
      "INFO:tensorflow:loss = 18.02272, step = 40200 (0.093 sec)\n",
      "INFO:tensorflow:global_step/sec: 1017.18\n",
      "INFO:tensorflow:loss = 3.4566388, step = 40300 (0.098 sec)\n",
      "INFO:tensorflow:global_step/sec: 995.007\n",
      "INFO:tensorflow:loss = 12.579114, step = 40400 (0.101 sec)\n",
      "INFO:tensorflow:global_step/sec: 1046.91\n",
      "INFO:tensorflow:loss = 4.889336, step = 40500 (0.095 sec)\n",
      "INFO:tensorflow:global_step/sec: 1017.26\n",
      "INFO:tensorflow:loss = 6.4812565, step = 40600 (0.100 sec)\n",
      "INFO:tensorflow:global_step/sec: 936.678\n",
      "INFO:tensorflow:loss = 13.185588, step = 40700 (0.108 sec)\n",
      "INFO:tensorflow:global_step/sec: 1025.07\n",
      "INFO:tensorflow:loss = 11.868434, step = 40800 (0.096 sec)\n",
      "INFO:tensorflow:global_step/sec: 970.915\n",
      "INFO:tensorflow:loss = 7.056278, step = 40900 (0.101 sec)\n",
      "INFO:tensorflow:global_step/sec: 966.496\n",
      "INFO:tensorflow:loss = 10.3266115, step = 41000 (0.106 sec)\n",
      "INFO:tensorflow:global_step/sec: 1006.63\n",
      "INFO:tensorflow:loss = 11.313548, step = 41100 (0.099 sec)\n",
      "INFO:tensorflow:global_step/sec: 1060.86\n",
      "INFO:tensorflow:loss = 25.230244, step = 41200 (0.094 sec)\n",
      "INFO:tensorflow:global_step/sec: 960.239\n",
      "INFO:tensorflow:loss = 18.02112, step = 41300 (0.102 sec)\n",
      "INFO:tensorflow:global_step/sec: 1015.45\n",
      "INFO:tensorflow:loss = 6.503235, step = 41400 (0.102 sec)\n",
      "INFO:tensorflow:global_step/sec: 1021.48\n",
      "INFO:tensorflow:loss = 19.322535, step = 41500 (0.094 sec)\n",
      "INFO:tensorflow:global_step/sec: 1096.48\n",
      "INFO:tensorflow:loss = 16.647602, step = 41600 (0.093 sec)\n",
      "INFO:tensorflow:global_step/sec: 1045.76\n",
      "INFO:tensorflow:loss = 2.016705, step = 41700 (0.095 sec)\n",
      "INFO:tensorflow:global_step/sec: 991.662\n",
      "INFO:tensorflow:loss = 24.334942, step = 41800 (0.103 sec)\n",
      "INFO:tensorflow:global_step/sec: 1031.3\n",
      "INFO:tensorflow:loss = 5.8554206, step = 41900 (0.095 sec)\n",
      "INFO:tensorflow:global_step/sec: 974.771\n",
      "INFO:tensorflow:loss = 4.5478497, step = 42000 (0.104 sec)\n",
      "INFO:tensorflow:global_step/sec: 1014.19\n",
      "INFO:tensorflow:loss = 27.24464, step = 42100 (0.099 sec)\n",
      "INFO:tensorflow:global_step/sec: 990.725\n",
      "INFO:tensorflow:loss = 19.240002, step = 42200 (0.100 sec)\n",
      "INFO:tensorflow:global_step/sec: 1045.72\n",
      "INFO:tensorflow:loss = 9.089111, step = 42300 (0.098 sec)\n",
      "INFO:tensorflow:global_step/sec: 997.625\n",
      "INFO:tensorflow:loss = 13.077673, step = 42400 (0.098 sec)\n",
      "INFO:tensorflow:global_step/sec: 1038.31\n",
      "INFO:tensorflow:loss = 15.317096, step = 42500 (0.099 sec)\n",
      "INFO:tensorflow:global_step/sec: 1045.23\n",
      "INFO:tensorflow:loss = 4.160538, step = 42600 (0.093 sec)\n",
      "INFO:tensorflow:global_step/sec: 1000.15\n",
      "INFO:tensorflow:loss = 6.7260838, step = 42700 (0.099 sec)\n",
      "INFO:tensorflow:global_step/sec: 1000.89\n",
      "INFO:tensorflow:loss = 11.447171, step = 42800 (0.100 sec)\n",
      "INFO:tensorflow:global_step/sec: 1033.43\n",
      "INFO:tensorflow:loss = 52.30681, step = 42900 (0.098 sec)\n",
      "INFO:tensorflow:global_step/sec: 979.746\n",
      "INFO:tensorflow:loss = 10.736223, step = 43000 (0.101 sec)\n",
      "INFO:tensorflow:global_step/sec: 1037.02\n",
      "INFO:tensorflow:loss = 18.378191, step = 43100 (0.096 sec)\n",
      "INFO:tensorflow:global_step/sec: 1021.2\n",
      "INFO:tensorflow:loss = 5.7092586, step = 43200 (0.098 sec)\n",
      "INFO:tensorflow:global_step/sec: 1079.87\n",
      "INFO:tensorflow:loss = 6.0885105, step = 43300 (0.093 sec)\n",
      "INFO:tensorflow:global_step/sec: 1060.17\n",
      "INFO:tensorflow:loss = 10.284836, step = 43400 (0.094 sec)\n",
      "INFO:tensorflow:global_step/sec: 966.505\n",
      "INFO:tensorflow:loss = 11.575631, step = 43500 (0.103 sec)\n",
      "INFO:tensorflow:global_step/sec: 984.768\n",
      "INFO:tensorflow:loss = 24.336082, step = 43600 (0.105 sec)\n",
      "INFO:tensorflow:global_step/sec: 921.021\n",
      "INFO:tensorflow:loss = 5.0084686, step = 43700 (0.108 sec)\n",
      "INFO:tensorflow:global_step/sec: 1019.9\n",
      "INFO:tensorflow:loss = 8.934342, step = 43800 (0.098 sec)\n",
      "INFO:tensorflow:global_step/sec: 1058.54\n",
      "INFO:tensorflow:loss = 10.025932, step = 43900 (0.092 sec)\n",
      "INFO:tensorflow:global_step/sec: 904.526\n",
      "INFO:tensorflow:loss = 8.383311, step = 44000 (0.116 sec)\n",
      "INFO:tensorflow:global_step/sec: 1019.73\n",
      "INFO:tensorflow:loss = 23.025826, step = 44100 (0.096 sec)\n",
      "INFO:tensorflow:global_step/sec: 1052.39\n",
      "INFO:tensorflow:loss = 16.633553, step = 44200 (0.093 sec)\n",
      "INFO:tensorflow:global_step/sec: 1016.04\n",
      "INFO:tensorflow:loss = 3.7730753, step = 44300 (0.098 sec)\n",
      "INFO:tensorflow:global_step/sec: 1045.53\n",
      "INFO:tensorflow:loss = 23.946747, step = 44400 (0.096 sec)\n",
      "INFO:tensorflow:global_step/sec: 1071.27\n",
      "INFO:tensorflow:loss = 18.181416, step = 44500 (0.092 sec)\n",
      "INFO:tensorflow:global_step/sec: 1014.6\n",
      "INFO:tensorflow:loss = 5.6709905, step = 44600 (0.102 sec)\n",
      "INFO:tensorflow:global_step/sec: 1038.28\n",
      "INFO:tensorflow:loss = 39.971294, step = 44701 (0.094 sec)\n",
      "INFO:tensorflow:global_step/sec: 1036.78\n",
      "INFO:tensorflow:loss = 7.52709, step = 44800 (0.096 sec)\n",
      "INFO:tensorflow:global_step/sec: 811.613\n",
      "INFO:tensorflow:loss = 6.141799, step = 44900 (0.123 sec)\n",
      "INFO:tensorflow:global_step/sec: 1001.98\n",
      "INFO:tensorflow:loss = 9.798234, step = 45000 (0.100 sec)\n",
      "INFO:tensorflow:global_step/sec: 989.654\n",
      "INFO:tensorflow:loss = 18.245506, step = 45100 (0.104 sec)\n",
      "INFO:tensorflow:global_step/sec: 970.282\n",
      "INFO:tensorflow:loss = 32.98738, step = 45200 (0.103 sec)\n",
      "INFO:tensorflow:global_step/sec: 1032.14\n",
      "INFO:tensorflow:loss = 9.419609, step = 45300 (0.095 sec)\n",
      "INFO:tensorflow:global_step/sec: 1062.15\n",
      "INFO:tensorflow:loss = 8.096174, step = 45400 (0.093 sec)\n",
      "INFO:tensorflow:global_step/sec: 1019.7\n",
      "INFO:tensorflow:loss = 11.9035225, step = 45500 (0.098 sec)\n",
      "INFO:tensorflow:global_step/sec: 1051.03\n",
      "INFO:tensorflow:loss = 2.3031259, step = 45600 (0.097 sec)\n",
      "INFO:tensorflow:global_step/sec: 999.11\n",
      "INFO:tensorflow:loss = 12.359413, step = 45700 (0.101 sec)\n",
      "INFO:tensorflow:global_step/sec: 994.045\n",
      "INFO:tensorflow:loss = 24.213392, step = 45800 (0.098 sec)\n",
      "INFO:tensorflow:global_step/sec: 930.649\n",
      "INFO:tensorflow:loss = 29.844326, step = 45900 (0.110 sec)\n",
      "INFO:tensorflow:global_step/sec: 872.71\n",
      "INFO:tensorflow:loss = 5.333235, step = 46000 (0.114 sec)\n",
      "INFO:tensorflow:global_step/sec: 959.997\n",
      "INFO:tensorflow:loss = 8.2013, step = 46100 (0.105 sec)\n",
      "INFO:tensorflow:global_step/sec: 939.532\n",
      "INFO:tensorflow:loss = 19.044775, step = 46200 (0.106 sec)\n",
      "INFO:tensorflow:global_step/sec: 1026.36\n",
      "INFO:tensorflow:loss = 7.5383167, step = 46300 (0.098 sec)\n",
      "INFO:tensorflow:global_step/sec: 1017.17\n",
      "INFO:tensorflow:loss = 13.549032, step = 46400 (0.096 sec)\n",
      "INFO:tensorflow:global_step/sec: 1047.85\n",
      "INFO:tensorflow:loss = 7.185656, step = 46500 (0.098 sec)\n",
      "INFO:tensorflow:global_step/sec: 963.276\n",
      "INFO:tensorflow:loss = 12.612644, step = 46600 (0.104 sec)\n",
      "INFO:tensorflow:global_step/sec: 1054.82\n",
      "INFO:tensorflow:loss = 29.940765, step = 46700 (0.095 sec)\n",
      "INFO:tensorflow:global_step/sec: 1016.74\n",
      "INFO:tensorflow:loss = 1.8935341, step = 46800 (0.101 sec)\n",
      "INFO:tensorflow:global_step/sec: 1006.13\n",
      "INFO:tensorflow:loss = 7.3615665, step = 46900 (0.094 sec)\n",
      "INFO:tensorflow:global_step/sec: 1053.78\n",
      "INFO:tensorflow:loss = 17.702162, step = 47000 (0.102 sec)\n",
      "INFO:tensorflow:global_step/sec: 914.706\n",
      "INFO:tensorflow:loss = 6.426963, step = 47100 (0.105 sec)\n",
      "INFO:tensorflow:global_step/sec: 1051.21\n",
      "INFO:tensorflow:loss = 10.859054, step = 47200 (0.095 sec)\n",
      "INFO:tensorflow:global_step/sec: 994.762\n",
      "INFO:tensorflow:loss = 9.137232, step = 47300 (0.100 sec)\n",
      "INFO:tensorflow:global_step/sec: 979.389\n",
      "INFO:tensorflow:loss = 9.318355, step = 47400 (0.102 sec)\n",
      "INFO:tensorflow:global_step/sec: 995.576\n",
      "INFO:tensorflow:loss = 28.871147, step = 47500 (0.098 sec)\n",
      "INFO:tensorflow:global_step/sec: 1013.12\n",
      "INFO:tensorflow:loss = 10.438259, step = 47600 (0.100 sec)\n",
      "INFO:tensorflow:global_step/sec: 995.671\n",
      "INFO:tensorflow:loss = 3.4111898, step = 47700 (0.099 sec)\n",
      "INFO:tensorflow:global_step/sec: 927.404\n",
      "INFO:tensorflow:loss = 14.205088, step = 47800 (0.112 sec)\n",
      "INFO:tensorflow:global_step/sec: 1017.15\n",
      "INFO:tensorflow:loss = 9.087739, step = 47900 (0.100 sec)\n",
      "INFO:tensorflow:global_step/sec: 988.43\n",
      "INFO:tensorflow:loss = 48.01916, step = 48000 (0.104 sec)\n",
      "INFO:tensorflow:global_step/sec: 935.656\n",
      "INFO:tensorflow:loss = 6.9527073, step = 48100 (0.100 sec)\n",
      "INFO:tensorflow:global_step/sec: 955.118\n",
      "INFO:tensorflow:loss = 7.4242387, step = 48200 (0.103 sec)\n",
      "INFO:tensorflow:global_step/sec: 1043.21\n",
      "INFO:tensorflow:loss = 31.102503, step = 48300 (0.099 sec)\n",
      "INFO:tensorflow:global_step/sec: 1031.12\n",
      "INFO:tensorflow:loss = 12.240915, step = 48400 (0.096 sec)\n",
      "INFO:tensorflow:global_step/sec: 1013.36\n",
      "INFO:tensorflow:loss = 30.711308, step = 48500 (0.099 sec)\n",
      "INFO:tensorflow:global_step/sec: 1057.4\n",
      "INFO:tensorflow:loss = 12.938387, step = 48600 (0.092 sec)\n",
      "INFO:tensorflow:global_step/sec: 1063.07\n",
      "INFO:tensorflow:loss = 3.6436176, step = 48700 (0.096 sec)\n",
      "INFO:tensorflow:global_step/sec: 927.947\n",
      "INFO:tensorflow:loss = 6.0239525, step = 48800 (0.106 sec)\n",
      "INFO:tensorflow:global_step/sec: 1031.55\n",
      "INFO:tensorflow:loss = 2.773298, step = 48900 (0.098 sec)\n",
      "INFO:tensorflow:global_step/sec: 768.012\n",
      "INFO:tensorflow:loss = 15.289846, step = 49000 (0.132 sec)\n",
      "INFO:tensorflow:global_step/sec: 984.948\n",
      "INFO:tensorflow:loss = 7.229115, step = 49100 (0.101 sec)\n",
      "INFO:tensorflow:global_step/sec: 1069.25\n",
      "INFO:tensorflow:loss = 11.86371, step = 49200 (0.094 sec)\n",
      "INFO:tensorflow:global_step/sec: 1008.95\n",
      "INFO:tensorflow:loss = 4.4064713, step = 49300 (0.099 sec)\n",
      "INFO:tensorflow:global_step/sec: 1028.79\n",
      "INFO:tensorflow:loss = 26.55557, step = 49400 (0.098 sec)\n",
      "INFO:tensorflow:global_step/sec: 1022.53\n",
      "INFO:tensorflow:loss = 5.802907, step = 49500 (0.097 sec)\n",
      "INFO:tensorflow:global_step/sec: 988.311\n",
      "INFO:tensorflow:loss = 16.762924, step = 49600 (0.102 sec)\n",
      "INFO:tensorflow:global_step/sec: 1042.91\n",
      "INFO:tensorflow:loss = 20.734486, step = 49700 (0.093 sec)\n",
      "INFO:tensorflow:global_step/sec: 1071.6\n",
      "INFO:tensorflow:loss = 6.765159, step = 49800 (0.096 sec)\n",
      "INFO:tensorflow:global_step/sec: 922.293\n",
      "INFO:tensorflow:loss = 2.7370963, step = 49900 (0.110 sec)\n",
      "INFO:tensorflow:global_step/sec: 838.348\n",
      "INFO:tensorflow:loss = 48.13106, step = 50000 (0.116 sec)\n",
      "INFO:tensorflow:global_step/sec: 1015.59\n",
      "INFO:tensorflow:loss = 15.951906, step = 50100 (0.099 sec)\n",
      "INFO:tensorflow:global_step/sec: 1039.52\n",
      "INFO:tensorflow:loss = 14.4404125, step = 50200 (0.097 sec)\n",
      "INFO:tensorflow:global_step/sec: 918.52\n",
      "INFO:tensorflow:loss = 25.923107, step = 50300 (0.108 sec)\n",
      "INFO:tensorflow:global_step/sec: 1000.24\n",
      "INFO:tensorflow:loss = 16.677269, step = 50400 (0.100 sec)\n",
      "INFO:tensorflow:global_step/sec: 1016.1\n",
      "INFO:tensorflow:loss = 26.680176, step = 50500 (0.096 sec)\n",
      "INFO:tensorflow:global_step/sec: 1016.41\n",
      "INFO:tensorflow:loss = 30.019491, step = 50600 (0.101 sec)\n",
      "INFO:tensorflow:global_step/sec: 1024.99\n",
      "INFO:tensorflow:loss = 1.9403374, step = 50700 (0.097 sec)\n",
      "INFO:tensorflow:global_step/sec: 1024.29\n",
      "INFO:tensorflow:loss = 48.649536, step = 50800 (0.098 sec)\n",
      "INFO:tensorflow:global_step/sec: 993.362\n",
      "INFO:tensorflow:loss = 17.389622, step = 50900 (0.101 sec)\n",
      "INFO:tensorflow:global_step/sec: 1043.44\n",
      "INFO:tensorflow:loss = 5.919039, step = 51000 (0.096 sec)\n",
      "INFO:tensorflow:global_step/sec: 958.676\n",
      "INFO:tensorflow:loss = 22.031525, step = 51100 (0.103 sec)\n",
      "INFO:tensorflow:global_step/sec: 944.58\n",
      "INFO:tensorflow:loss = 11.196542, step = 51200 (0.106 sec)\n",
      "INFO:tensorflow:global_step/sec: 1059.66\n",
      "INFO:tensorflow:loss = 28.595486, step = 51300 (0.095 sec)\n",
      "INFO:tensorflow:global_step/sec: 1010.06\n",
      "INFO:tensorflow:loss = 25.7541, step = 51400 (0.096 sec)\n",
      "INFO:tensorflow:global_step/sec: 1078.71\n",
      "INFO:tensorflow:loss = 12.036501, step = 51500 (0.096 sec)\n",
      "INFO:tensorflow:global_step/sec: 1026.65\n",
      "INFO:tensorflow:loss = 7.6904645, step = 51600 (0.095 sec)\n",
      "INFO:tensorflow:global_step/sec: 1017.11\n",
      "INFO:tensorflow:loss = 18.461506, step = 51700 (0.101 sec)\n",
      "INFO:tensorflow:global_step/sec: 1059\n",
      "INFO:tensorflow:loss = 15.795097, step = 51800 (0.094 sec)\n",
      "INFO:tensorflow:global_step/sec: 1035.23\n",
      "INFO:tensorflow:loss = 4.20508, step = 51900 (0.098 sec)\n",
      "INFO:tensorflow:global_step/sec: 948.107\n",
      "INFO:tensorflow:loss = 17.62303, step = 52000 (0.102 sec)\n",
      "INFO:tensorflow:global_step/sec: 970.1\n",
      "INFO:tensorflow:loss = 4.006948, step = 52100 (0.106 sec)\n",
      "INFO:tensorflow:global_step/sec: 1059.37\n",
      "INFO:tensorflow:loss = 7.845107, step = 52200 (0.095 sec)\n",
      "INFO:tensorflow:global_step/sec: 967.029\n",
      "INFO:tensorflow:loss = 3.8810854, step = 52300 (0.102 sec)\n",
      "INFO:tensorflow:global_step/sec: 1072.16\n",
      "INFO:tensorflow:loss = 4.5611067, step = 52400 (0.094 sec)\n",
      "INFO:tensorflow:global_step/sec: 1005.55\n",
      "INFO:tensorflow:loss = 5.1642237, step = 52500 (0.098 sec)\n",
      "INFO:tensorflow:global_step/sec: 1018.88\n",
      "INFO:tensorflow:loss = 13.687377, step = 52600 (0.098 sec)\n",
      "INFO:tensorflow:global_step/sec: 1060\n",
      "INFO:tensorflow:loss = 11.619398, step = 52700 (0.097 sec)\n",
      "INFO:tensorflow:global_step/sec: 1041.95\n",
      "INFO:tensorflow:loss = 27.857315, step = 52800 (0.096 sec)\n",
      "INFO:tensorflow:global_step/sec: 1017.15\n",
      "INFO:tensorflow:loss = 13.712249, step = 52900 (0.098 sec)\n",
      "INFO:tensorflow:global_step/sec: 1051.48\n",
      "INFO:tensorflow:loss = 2.4280162, step = 53000 (0.096 sec)\n",
      "INFO:tensorflow:global_step/sec: 870.927\n",
      "INFO:tensorflow:loss = 8.60342, step = 53100 (0.111 sec)\n",
      "INFO:tensorflow:global_step/sec: 1042.1\n",
      "INFO:tensorflow:loss = 14.545202, step = 53200 (0.099 sec)\n",
      "INFO:tensorflow:global_step/sec: 1042.28\n",
      "INFO:tensorflow:loss = 22.175875, step = 53300 (0.093 sec)\n",
      "INFO:tensorflow:global_step/sec: 996.835\n",
      "INFO:tensorflow:loss = 29.95054, step = 53400 (0.100 sec)\n",
      "INFO:tensorflow:global_step/sec: 1061.38\n",
      "INFO:tensorflow:loss = 37.156296, step = 53500 (0.098 sec)\n",
      "INFO:tensorflow:global_step/sec: 978.238\n",
      "INFO:tensorflow:loss = 0.97538763, step = 53600 (0.108 sec)\n",
      "INFO:tensorflow:global_step/sec: 916.439\n",
      "INFO:tensorflow:loss = 22.530397, step = 53700 (0.100 sec)\n",
      "INFO:tensorflow:global_step/sec: 1029.57\n",
      "INFO:tensorflow:loss = 9.520183, step = 53800 (0.101 sec)\n",
      "INFO:tensorflow:global_step/sec: 987.162\n",
      "INFO:tensorflow:loss = 10.418728, step = 53900 (0.101 sec)\n",
      "INFO:tensorflow:global_step/sec: 977.352\n",
      "INFO:tensorflow:loss = 18.152243, step = 54000 (0.100 sec)\n",
      "INFO:tensorflow:global_step/sec: 876.749\n",
      "INFO:tensorflow:loss = 36.424526, step = 54100 (0.114 sec)\n",
      "INFO:tensorflow:global_step/sec: 938.371\n",
      "INFO:tensorflow:loss = 6.4643803, step = 54200 (0.110 sec)\n",
      "INFO:tensorflow:global_step/sec: 1035.9\n",
      "INFO:tensorflow:loss = 13.057988, step = 54300 (0.094 sec)\n",
      "INFO:tensorflow:global_step/sec: 1020.03\n",
      "INFO:tensorflow:loss = 4.0456543, step = 54400 (0.101 sec)\n",
      "INFO:tensorflow:global_step/sec: 1019.12\n",
      "INFO:tensorflow:loss = 4.7487464, step = 54500 (0.098 sec)\n",
      "INFO:tensorflow:global_step/sec: 1037.93\n",
      "INFO:tensorflow:loss = 20.234968, step = 54600 (0.093 sec)\n",
      "INFO:tensorflow:global_step/sec: 998.142\n",
      "INFO:tensorflow:loss = 9.337982, step = 54700 (0.104 sec)\n",
      "INFO:tensorflow:global_step/sec: 1039.7\n",
      "INFO:tensorflow:loss = 10.784027, step = 54800 (0.093 sec)\n",
      "INFO:tensorflow:global_step/sec: 951.219\n",
      "INFO:tensorflow:loss = 8.151749, step = 54900 (0.105 sec)\n",
      "INFO:tensorflow:global_step/sec: 1049.89\n",
      "INFO:tensorflow:loss = 10.864216, step = 55000 (0.097 sec)\n",
      "INFO:tensorflow:global_step/sec: 907.086\n",
      "INFO:tensorflow:loss = 24.446304, step = 55100 (0.111 sec)\n",
      "INFO:tensorflow:global_step/sec: 962.818\n",
      "INFO:tensorflow:loss = 4.7116747, step = 55200 (0.104 sec)\n",
      "INFO:tensorflow:global_step/sec: 1044.91\n",
      "INFO:tensorflow:loss = 12.137602, step = 55300 (0.095 sec)\n",
      "INFO:tensorflow:global_step/sec: 1076.69\n",
      "INFO:tensorflow:loss = 9.507832, step = 55400 (0.093 sec)\n",
      "INFO:tensorflow:global_step/sec: 988.586\n",
      "INFO:tensorflow:loss = 0.9032965, step = 55500 (0.101 sec)\n",
      "INFO:tensorflow:global_step/sec: 1020.4\n",
      "INFO:tensorflow:loss = 12.144205, step = 55600 (0.097 sec)\n",
      "INFO:tensorflow:global_step/sec: 980.131\n",
      "INFO:tensorflow:loss = 4.250413, step = 55700 (0.100 sec)\n",
      "INFO:tensorflow:global_step/sec: 1056.89\n",
      "INFO:tensorflow:loss = 8.972948, step = 55800 (0.094 sec)\n",
      "INFO:tensorflow:global_step/sec: 1053.83\n",
      "INFO:tensorflow:loss = 3.9215531, step = 55900 (0.098 sec)\n",
      "INFO:tensorflow:global_step/sec: 1007.39\n",
      "INFO:tensorflow:loss = 7.441828, step = 56000 (0.096 sec)\n",
      "INFO:tensorflow:global_step/sec: 1070.11\n",
      "INFO:tensorflow:loss = 20.562805, step = 56100 (0.094 sec)\n",
      "INFO:tensorflow:global_step/sec: 975.973\n",
      "INFO:tensorflow:loss = 16.334751, step = 56200 (0.105 sec)\n",
      "INFO:tensorflow:global_step/sec: 1002.51\n",
      "INFO:tensorflow:loss = 18.765724, step = 56300 (0.100 sec)\n",
      "INFO:tensorflow:global_step/sec: 1050.04\n",
      "INFO:tensorflow:loss = 36.389915, step = 56400 (0.094 sec)\n",
      "INFO:tensorflow:global_step/sec: 987.123\n",
      "INFO:tensorflow:loss = 1.525436, step = 56500 (0.103 sec)\n",
      "INFO:tensorflow:global_step/sec: 989.566\n",
      "INFO:tensorflow:loss = 4.222847, step = 56600 (0.101 sec)\n",
      "INFO:tensorflow:global_step/sec: 1029.71\n",
      "INFO:tensorflow:loss = 7.1240544, step = 56700 (0.097 sec)\n",
      "INFO:tensorflow:global_step/sec: 1018.33\n",
      "INFO:tensorflow:loss = 8.116313, step = 56800 (0.096 sec)\n",
      "INFO:tensorflow:global_step/sec: 1000.7\n",
      "INFO:tensorflow:loss = 42.496483, step = 56900 (0.104 sec)\n",
      "INFO:tensorflow:global_step/sec: 893.99\n",
      "INFO:tensorflow:loss = 8.426163, step = 57000 (0.108 sec)\n",
      "INFO:tensorflow:global_step/sec: 1025.95\n",
      "INFO:tensorflow:loss = 6.238003, step = 57100 (0.097 sec)\n",
      "INFO:tensorflow:global_step/sec: 1010.34\n",
      "INFO:tensorflow:loss = 9.903103, step = 57200 (0.103 sec)\n",
      "INFO:tensorflow:global_step/sec: 972.687\n",
      "INFO:tensorflow:loss = 2.7087927, step = 57300 (0.101 sec)\n",
      "INFO:tensorflow:global_step/sec: 1054.89\n",
      "INFO:tensorflow:loss = 28.909908, step = 57400 (0.093 sec)\n",
      "INFO:tensorflow:global_step/sec: 1015.63\n",
      "INFO:tensorflow:loss = 4.205554, step = 57500 (0.099 sec)\n",
      "INFO:tensorflow:global_step/sec: 1031.66\n",
      "INFO:tensorflow:loss = 10.474537, step = 57600 (0.099 sec)\n",
      "INFO:tensorflow:global_step/sec: 1042.07\n",
      "INFO:tensorflow:loss = 12.96007, step = 57700 (0.093 sec)\n",
      "INFO:tensorflow:global_step/sec: 940.01\n",
      "INFO:tensorflow:loss = 14.566983, step = 57800 (0.110 sec)\n",
      "INFO:tensorflow:global_step/sec: 1007.53\n",
      "INFO:tensorflow:loss = 4.631198, step = 57900 (0.099 sec)\n",
      "INFO:tensorflow:global_step/sec: 1060.55\n",
      "INFO:tensorflow:loss = 2.996224, step = 58000 (0.093 sec)\n",
      "INFO:tensorflow:global_step/sec: 1065.29\n",
      "INFO:tensorflow:loss = 13.664867, step = 58100 (0.092 sec)\n",
      "INFO:tensorflow:global_step/sec: 906.195\n",
      "INFO:tensorflow:loss = 12.363146, step = 58200 (0.113 sec)\n",
      "INFO:tensorflow:global_step/sec: 1022.17\n",
      "INFO:tensorflow:loss = 5.427902, step = 58300 (0.097 sec)\n",
      "INFO:tensorflow:global_step/sec: 1006.53\n",
      "INFO:tensorflow:loss = 7.4614487, step = 58400 (0.097 sec)\n",
      "INFO:tensorflow:global_step/sec: 1060.19\n",
      "INFO:tensorflow:loss = 6.550764, step = 58500 (0.097 sec)\n",
      "INFO:tensorflow:global_step/sec: 1035.29\n",
      "INFO:tensorflow:loss = 16.30283, step = 58600 (0.097 sec)\n",
      "INFO:tensorflow:global_step/sec: 1027.53\n",
      "INFO:tensorflow:loss = 10.245532, step = 58700 (0.095 sec)\n",
      "INFO:tensorflow:global_step/sec: 1057.36\n",
      "INFO:tensorflow:loss = 15.909842, step = 58800 (0.094 sec)\n",
      "INFO:tensorflow:global_step/sec: 1074.98\n",
      "INFO:tensorflow:loss = 10.357851, step = 58900 (0.096 sec)\n",
      "INFO:tensorflow:global_step/sec: 1048.51\n",
      "INFO:tensorflow:loss = 22.27838, step = 59000 (0.095 sec)\n",
      "INFO:tensorflow:global_step/sec: 939.184\n",
      "INFO:tensorflow:loss = 15.365491, step = 59100 (0.107 sec)\n",
      "INFO:tensorflow:global_step/sec: 978.325\n",
      "INFO:tensorflow:loss = 15.282383, step = 59200 (0.102 sec)\n",
      "INFO:tensorflow:global_step/sec: 999.439\n",
      "INFO:tensorflow:loss = 24.075306, step = 59300 (0.098 sec)\n",
      "INFO:tensorflow:global_step/sec: 1003.27\n",
      "INFO:tensorflow:loss = 27.041588, step = 59400 (0.099 sec)\n",
      "INFO:tensorflow:global_step/sec: 1042.29\n",
      "INFO:tensorflow:loss = 9.807061, step = 59500 (0.096 sec)\n",
      "INFO:tensorflow:global_step/sec: 963.878\n",
      "INFO:tensorflow:loss = 3.0546193, step = 59600 (0.107 sec)\n",
      "INFO:tensorflow:global_step/sec: 1058.33\n",
      "INFO:tensorflow:loss = 4.0162234, step = 59700 (0.094 sec)\n",
      "INFO:tensorflow:global_step/sec: 1038.32\n",
      "INFO:tensorflow:loss = 6.7064342, step = 59800 (0.097 sec)\n",
      "INFO:tensorflow:global_step/sec: 974.228\n",
      "INFO:tensorflow:loss = 12.248764, step = 59900 (0.102 sec)\n",
      "INFO:tensorflow:global_step/sec: 982.597\n",
      "INFO:tensorflow:loss = 12.346141, step = 60000 (0.102 sec)\n",
      "INFO:tensorflow:global_step/sec: 1013.56\n",
      "INFO:tensorflow:loss = 13.766897, step = 60100 (0.099 sec)\n",
      "INFO:tensorflow:global_step/sec: 1015.67\n",
      "INFO:tensorflow:loss = 42.07482, step = 60200 (0.095 sec)\n",
      "INFO:tensorflow:global_step/sec: 908.855\n",
      "INFO:tensorflow:loss = 0.79395944, step = 60300 (0.112 sec)\n",
      "INFO:tensorflow:global_step/sec: 1003.05\n",
      "INFO:tensorflow:loss = 2.9649744, step = 60400 (0.101 sec)\n",
      "INFO:tensorflow:global_step/sec: 1060.17\n",
      "INFO:tensorflow:loss = 8.096385, step = 60500 (0.094 sec)\n",
      "INFO:tensorflow:global_step/sec: 1028.81\n",
      "INFO:tensorflow:loss = 15.8042145, step = 60600 (0.097 sec)\n",
      "INFO:tensorflow:global_step/sec: 1014.79\n",
      "INFO:tensorflow:loss = 4.1139107, step = 60700 (0.097 sec)\n",
      "INFO:tensorflow:global_step/sec: 1049.7\n",
      "INFO:tensorflow:loss = 6.8854666, step = 60800 (0.094 sec)\n",
      "INFO:tensorflow:global_step/sec: 1034.28\n",
      "INFO:tensorflow:loss = 10.544123, step = 60900 (0.096 sec)\n",
      "INFO:tensorflow:global_step/sec: 1079.64\n",
      "INFO:tensorflow:loss = 4.997818, step = 61000 (0.096 sec)\n",
      "INFO:tensorflow:global_step/sec: 1039.93\n",
      "INFO:tensorflow:loss = 7.3372183, step = 61100 (0.096 sec)\n",
      "INFO:tensorflow:global_step/sec: 953.593\n",
      "INFO:tensorflow:loss = 2.7481475, step = 61200 (0.105 sec)\n",
      "INFO:tensorflow:global_step/sec: 1003.28\n",
      "INFO:tensorflow:loss = 16.473751, step = 61300 (0.098 sec)\n",
      "INFO:tensorflow:global_step/sec: 1036.83\n",
      "INFO:tensorflow:loss = 16.213594, step = 61400 (0.098 sec)\n",
      "INFO:tensorflow:global_step/sec: 973.434\n",
      "INFO:tensorflow:loss = 13.9305525, step = 61500 (0.103 sec)\n",
      "INFO:tensorflow:global_step/sec: 1001.64\n",
      "INFO:tensorflow:loss = 12.539524, step = 61600 (0.096 sec)\n",
      "INFO:tensorflow:global_step/sec: 1087.32\n",
      "INFO:tensorflow:loss = 5.196686, step = 61700 (0.095 sec)\n",
      "INFO:tensorflow:global_step/sec: 989.746\n",
      "INFO:tensorflow:loss = 31.815014, step = 61800 (0.101 sec)\n",
      "INFO:tensorflow:global_step/sec: 1064.23\n",
      "INFO:tensorflow:loss = 11.519492, step = 61900 (0.094 sec)\n",
      "INFO:tensorflow:global_step/sec: 1045.01\n",
      "INFO:tensorflow:loss = 11.076918, step = 62000 (0.096 sec)\n",
      "INFO:tensorflow:global_step/sec: 1003.03\n",
      "INFO:tensorflow:loss = 2.210351, step = 62100 (0.100 sec)\n",
      "INFO:tensorflow:global_step/sec: 1034.15\n",
      "INFO:tensorflow:loss = 15.693361, step = 62200 (0.094 sec)\n",
      "INFO:tensorflow:global_step/sec: 949.174\n",
      "INFO:tensorflow:loss = 31.332813, step = 62300 (0.107 sec)\n",
      "INFO:tensorflow:global_step/sec: 1005.54\n",
      "INFO:tensorflow:loss = 1.3023114, step = 62400 (0.096 sec)\n",
      "INFO:tensorflow:global_step/sec: 958.339\n",
      "INFO:tensorflow:loss = 34.9367, step = 62500 (0.109 sec)\n",
      "INFO:tensorflow:global_step/sec: 932.142\n",
      "INFO:tensorflow:loss = 17.557472, step = 62600 (0.105 sec)\n",
      "INFO:tensorflow:global_step/sec: 1041.89\n",
      "INFO:tensorflow:loss = 3.1196468, step = 62700 (0.096 sec)\n",
      "INFO:tensorflow:global_step/sec: 1048.58\n",
      "INFO:tensorflow:loss = 4.002636, step = 62800 (0.098 sec)\n",
      "INFO:tensorflow:global_step/sec: 998.466\n",
      "INFO:tensorflow:loss = 6.78335, step = 62900 (0.098 sec)\n",
      "INFO:tensorflow:global_step/sec: 1035.17\n",
      "INFO:tensorflow:loss = 7.8144817, step = 63000 (0.097 sec)\n",
      "INFO:tensorflow:global_step/sec: 961.062\n",
      "INFO:tensorflow:loss = 11.762746, step = 63100 (0.101 sec)\n",
      "INFO:tensorflow:global_step/sec: 985.907\n",
      "INFO:tensorflow:loss = 5.5999856, step = 63200 (0.103 sec)\n",
      "INFO:tensorflow:global_step/sec: 926.65\n",
      "INFO:tensorflow:loss = 11.0574, step = 63300 (0.109 sec)\n",
      "INFO:tensorflow:global_step/sec: 963.307\n",
      "INFO:tensorflow:loss = 4.4880342, step = 63400 (0.103 sec)\n",
      "INFO:tensorflow:global_step/sec: 1010.44\n",
      "INFO:tensorflow:loss = 4.2664976, step = 63500 (0.100 sec)\n",
      "INFO:tensorflow:global_step/sec: 935.915\n",
      "INFO:tensorflow:loss = 6.681212, step = 63600 (0.106 sec)\n",
      "INFO:tensorflow:global_step/sec: 1039.97\n",
      "INFO:tensorflow:loss = 5.465502, step = 63700 (0.097 sec)\n",
      "INFO:tensorflow:global_step/sec: 1001.37\n",
      "INFO:tensorflow:loss = 14.581663, step = 63800 (0.097 sec)\n",
      "INFO:tensorflow:global_step/sec: 1012.07\n",
      "INFO:tensorflow:loss = 4.5266223, step = 63900 (0.101 sec)\n",
      "INFO:tensorflow:global_step/sec: 1035.95\n",
      "INFO:tensorflow:loss = 12.681723, step = 64000 (0.095 sec)\n",
      "INFO:tensorflow:global_step/sec: 1051.67\n",
      "INFO:tensorflow:loss = 16.297813, step = 64100 (0.096 sec)\n",
      "INFO:tensorflow:global_step/sec: 969.855\n",
      "INFO:tensorflow:loss = 3.2324007, step = 64200 (0.103 sec)\n",
      "INFO:tensorflow:global_step/sec: 953.127\n",
      "INFO:tensorflow:loss = 11.901053, step = 64300 (0.105 sec)\n",
      "INFO:tensorflow:global_step/sec: 900.68\n",
      "INFO:tensorflow:loss = 7.8275433, step = 64400 (0.110 sec)\n",
      "INFO:tensorflow:global_step/sec: 959.069\n",
      "INFO:tensorflow:loss = 4.6634655, step = 64500 (0.105 sec)\n",
      "INFO:tensorflow:global_step/sec: 997.926\n",
      "INFO:tensorflow:loss = 12.726578, step = 64600 (0.101 sec)\n",
      "INFO:tensorflow:global_step/sec: 1060.01\n",
      "INFO:tensorflow:loss = 10.551492, step = 64700 (0.094 sec)\n",
      "INFO:tensorflow:global_step/sec: 968.726\n",
      "INFO:tensorflow:loss = 18.656338, step = 64800 (0.100 sec)\n",
      "INFO:tensorflow:global_step/sec: 1019.61\n",
      "INFO:tensorflow:loss = 4.147602, step = 64900 (0.098 sec)\n",
      "INFO:tensorflow:global_step/sec: 956.97\n",
      "INFO:tensorflow:loss = 25.67714, step = 65000 (0.107 sec)\n",
      "INFO:tensorflow:global_step/sec: 1011.87\n",
      "INFO:tensorflow:loss = 16.370396, step = 65100 (0.095 sec)\n",
      "INFO:tensorflow:global_step/sec: 1048.16\n",
      "INFO:tensorflow:loss = 19.306526, step = 65200 (0.095 sec)\n",
      "INFO:tensorflow:global_step/sec: 944.208\n",
      "INFO:tensorflow:loss = 19.991714, step = 65300 (0.107 sec)\n",
      "INFO:tensorflow:global_step/sec: 953.609\n",
      "INFO:tensorflow:loss = 15.558544, step = 65400 (0.106 sec)\n",
      "INFO:tensorflow:global_step/sec: 986.401\n",
      "INFO:tensorflow:loss = 7.742698, step = 65500 (0.100 sec)\n",
      "INFO:tensorflow:global_step/sec: 999.01\n",
      "INFO:tensorflow:loss = 3.7111905, step = 65600 (0.103 sec)\n",
      "INFO:tensorflow:global_step/sec: 1023.56\n",
      "INFO:tensorflow:loss = 9.667115, step = 65700 (0.097 sec)\n",
      "INFO:tensorflow:global_step/sec: 981.604\n",
      "INFO:tensorflow:loss = 57.791405, step = 65800 (0.101 sec)\n",
      "INFO:tensorflow:global_step/sec: 1039.53\n",
      "INFO:tensorflow:loss = 5.5348706, step = 65900 (0.096 sec)\n",
      "INFO:tensorflow:global_step/sec: 946.031\n",
      "INFO:tensorflow:loss = 7.167118, step = 66000 (0.107 sec)\n",
      "INFO:tensorflow:global_step/sec: 1004.48\n",
      "INFO:tensorflow:loss = 12.731914, step = 66100 (0.100 sec)\n",
      "INFO:tensorflow:global_step/sec: 1010.56\n",
      "INFO:tensorflow:loss = 5.587139, step = 66200 (0.102 sec)\n",
      "INFO:tensorflow:global_step/sec: 875.649\n",
      "INFO:tensorflow:loss = 22.651485, step = 66300 (0.110 sec)\n",
      "INFO:tensorflow:global_step/sec: 997.032\n",
      "INFO:tensorflow:loss = 4.70122, step = 66400 (0.101 sec)\n",
      "INFO:tensorflow:global_step/sec: 976.962\n",
      "INFO:tensorflow:loss = 7.4113936, step = 66500 (0.099 sec)\n",
      "INFO:tensorflow:global_step/sec: 1053.27\n",
      "INFO:tensorflow:loss = 21.176247, step = 66600 (0.098 sec)\n",
      "INFO:tensorflow:global_step/sec: 1038.02\n",
      "INFO:tensorflow:loss = 8.22099, step = 66700 (0.093 sec)\n",
      "INFO:tensorflow:global_step/sec: 991.053\n",
      "INFO:tensorflow:loss = 15.965544, step = 66800 (0.104 sec)\n",
      "INFO:tensorflow:global_step/sec: 1011.12\n",
      "INFO:tensorflow:loss = 6.7682986, step = 66900 (0.096 sec)\n",
      "INFO:tensorflow:global_step/sec: 982.565\n",
      "INFO:tensorflow:loss = 6.1637726, step = 67000 (0.106 sec)\n",
      "INFO:tensorflow:global_step/sec: 971.383\n",
      "INFO:tensorflow:loss = 5.582464, step = 67100 (0.103 sec)\n",
      "INFO:tensorflow:global_step/sec: 997.274\n",
      "INFO:tensorflow:loss = 24.122385, step = 67200 (0.097 sec)\n",
      "INFO:tensorflow:global_step/sec: 908.81\n",
      "INFO:tensorflow:loss = 26.218077, step = 67300 (0.113 sec)\n",
      "INFO:tensorflow:global_step/sec: 1033.76\n",
      "INFO:tensorflow:loss = 15.9495945, step = 67400 (0.096 sec)\n",
      "INFO:tensorflow:global_step/sec: 977.279\n",
      "INFO:tensorflow:loss = 5.4937243, step = 67500 (0.100 sec)\n",
      "INFO:tensorflow:global_step/sec: 966.777\n",
      "INFO:tensorflow:loss = 12.323071, step = 67600 (0.106 sec)\n",
      "INFO:tensorflow:global_step/sec: 1011.18\n",
      "INFO:tensorflow:loss = 10.88009, step = 67700 (0.100 sec)\n",
      "INFO:tensorflow:global_step/sec: 985.101\n",
      "INFO:tensorflow:loss = 4.132947, step = 67800 (0.097 sec)\n",
      "INFO:tensorflow:global_step/sec: 1046.85\n",
      "INFO:tensorflow:loss = 11.215986, step = 67900 (0.099 sec)\n",
      "INFO:tensorflow:global_step/sec: 985.427\n",
      "INFO:tensorflow:loss = 20.349148, step = 68000 (0.102 sec)\n",
      "INFO:tensorflow:global_step/sec: 983.413\n",
      "INFO:tensorflow:loss = 3.276573, step = 68100 (0.098 sec)\n",
      "INFO:tensorflow:global_step/sec: 1030.15\n",
      "INFO:tensorflow:loss = 19.745678, step = 68200 (0.097 sec)\n",
      "INFO:tensorflow:global_step/sec: 968.782\n",
      "INFO:tensorflow:loss = 8.337735, step = 68300 (0.106 sec)\n",
      "INFO:tensorflow:global_step/sec: 962.478\n",
      "INFO:tensorflow:loss = 12.901875, step = 68400 (0.103 sec)\n",
      "INFO:tensorflow:global_step/sec: 1057.3\n",
      "INFO:tensorflow:loss = 10.358083, step = 68500 (0.096 sec)\n",
      "INFO:tensorflow:global_step/sec: 973.222\n",
      "INFO:tensorflow:loss = 5.5676737, step = 68600 (0.102 sec)\n",
      "INFO:tensorflow:global_step/sec: 1017.24\n",
      "INFO:tensorflow:loss = 5.153092, step = 68700 (0.099 sec)\n",
      "INFO:tensorflow:global_step/sec: 986.278\n",
      "INFO:tensorflow:loss = 2.3719532, step = 68800 (0.099 sec)\n",
      "INFO:tensorflow:global_step/sec: 996.104\n",
      "INFO:tensorflow:loss = 16.055828, step = 68900 (0.100 sec)\n",
      "INFO:tensorflow:global_step/sec: 1039.84\n",
      "INFO:tensorflow:loss = 30.65824, step = 69000 (0.096 sec)\n",
      "INFO:tensorflow:global_step/sec: 1001.79\n",
      "INFO:tensorflow:loss = 10.366629, step = 69100 (0.103 sec)\n",
      "INFO:tensorflow:global_step/sec: 951.743\n",
      "INFO:tensorflow:loss = 12.813336, step = 69200 (0.105 sec)\n",
      "INFO:tensorflow:global_step/sec: 967.482\n",
      "INFO:tensorflow:loss = 5.3286543, step = 69300 (0.101 sec)\n",
      "INFO:tensorflow:global_step/sec: 995.671\n",
      "INFO:tensorflow:loss = 9.037811, step = 69400 (0.107 sec)\n",
      "INFO:tensorflow:global_step/sec: 947.009\n",
      "INFO:tensorflow:loss = 12.140465, step = 69500 (0.102 sec)\n",
      "INFO:tensorflow:global_step/sec: 987.857\n",
      "INFO:tensorflow:loss = 16.977448, step = 69600 (0.099 sec)\n",
      "INFO:tensorflow:global_step/sec: 988.109\n",
      "INFO:tensorflow:loss = 3.7706826, step = 69700 (0.101 sec)\n",
      "INFO:tensorflow:global_step/sec: 1015.7\n",
      "INFO:tensorflow:loss = 38.24185, step = 69800 (0.099 sec)\n",
      "INFO:tensorflow:global_step/sec: 971.227\n",
      "INFO:tensorflow:loss = 36.3835, step = 69900 (0.106 sec)\n",
      "INFO:tensorflow:global_step/sec: 1004.13\n",
      "INFO:tensorflow:loss = 3.5024161, step = 70000 (0.099 sec)\n",
      "INFO:tensorflow:global_step/sec: 1046.25\n",
      "INFO:tensorflow:loss = 16.709513, step = 70100 (0.093 sec)\n",
      "INFO:tensorflow:global_step/sec: 961.414\n",
      "INFO:tensorflow:loss = 8.8588915, step = 70200 (0.107 sec)\n",
      "INFO:tensorflow:global_step/sec: 985.383\n",
      "INFO:tensorflow:loss = 9.895756, step = 70300 (0.099 sec)\n",
      "INFO:tensorflow:global_step/sec: 945.656\n",
      "INFO:tensorflow:loss = 34.98727, step = 70400 (0.108 sec)\n",
      "INFO:tensorflow:global_step/sec: 1035.96\n",
      "INFO:tensorflow:loss = 17.033922, step = 70500 (0.102 sec)\n",
      "INFO:tensorflow:global_step/sec: 928.5\n",
      "INFO:tensorflow:loss = 8.756285, step = 70600 (0.100 sec)\n",
      "INFO:tensorflow:global_step/sec: 1005.95\n",
      "INFO:tensorflow:loss = 12.548484, step = 70700 (0.099 sec)\n",
      "INFO:tensorflow:global_step/sec: 997.639\n",
      "INFO:tensorflow:loss = 16.91978, step = 70800 (0.104 sec)\n",
      "INFO:tensorflow:global_step/sec: 1045.31\n",
      "INFO:tensorflow:loss = 11.536641, step = 70900 (0.095 sec)\n",
      "INFO:tensorflow:global_step/sec: 999.52\n",
      "INFO:tensorflow:loss = 3.4624798, step = 71000 (0.099 sec)\n",
      "INFO:tensorflow:global_step/sec: 977.629\n",
      "INFO:tensorflow:loss = 9.711998, step = 71100 (0.104 sec)\n",
      "INFO:tensorflow:global_step/sec: 1028.54\n",
      "INFO:tensorflow:loss = 2.1291165, step = 71200 (0.094 sec)\n",
      "INFO:tensorflow:global_step/sec: 969.394\n",
      "INFO:tensorflow:loss = 26.815817, step = 71300 (0.105 sec)\n",
      "INFO:tensorflow:global_step/sec: 965.918\n",
      "INFO:tensorflow:loss = 4.53889, step = 71400 (0.106 sec)\n",
      "INFO:tensorflow:global_step/sec: 1049.07\n",
      "INFO:tensorflow:loss = 17.395735, step = 71500 (0.093 sec)\n",
      "INFO:tensorflow:global_step/sec: 970.436\n",
      "INFO:tensorflow:loss = 11.702335, step = 71600 (0.104 sec)\n",
      "INFO:tensorflow:global_step/sec: 1013.52\n",
      "INFO:tensorflow:loss = 10.872358, step = 71700 (0.100 sec)\n",
      "INFO:tensorflow:global_step/sec: 1008.51\n",
      "INFO:tensorflow:loss = 4.198842, step = 71800 (0.096 sec)\n",
      "INFO:tensorflow:global_step/sec: 994.809\n",
      "INFO:tensorflow:loss = 12.53906, step = 71900 (0.102 sec)\n",
      "INFO:tensorflow:global_step/sec: 1026.68\n",
      "INFO:tensorflow:loss = 11.863177, step = 72000 (0.097 sec)\n",
      "INFO:tensorflow:global_step/sec: 1008.09\n",
      "INFO:tensorflow:loss = 6.246599, step = 72100 (0.098 sec)\n",
      "INFO:tensorflow:global_step/sec: 1061.12\n",
      "INFO:tensorflow:loss = 15.456692, step = 72200 (0.095 sec)\n",
      "INFO:tensorflow:global_step/sec: 966.958\n",
      "INFO:tensorflow:loss = 9.196177, step = 72300 (0.101 sec)\n",
      "INFO:tensorflow:global_step/sec: 864.882\n",
      "INFO:tensorflow:loss = 13.859772, step = 72400 (0.116 sec)\n",
      "INFO:tensorflow:global_step/sec: 957.171\n",
      "INFO:tensorflow:loss = 7.4263835, step = 72500 (0.106 sec)\n",
      "INFO:tensorflow:global_step/sec: 1045.82\n",
      "INFO:tensorflow:loss = 3.9854677, step = 72600 (0.097 sec)\n",
      "INFO:tensorflow:global_step/sec: 1015.69\n",
      "INFO:tensorflow:loss = 29.11093, step = 72700 (0.099 sec)\n",
      "INFO:tensorflow:global_step/sec: 984.911\n",
      "INFO:tensorflow:loss = 13.730482, step = 72800 (0.101 sec)\n",
      "INFO:tensorflow:global_step/sec: 1062.2\n",
      "INFO:tensorflow:loss = 10.638726, step = 72900 (0.094 sec)\n",
      "INFO:tensorflow:global_step/sec: 1011.38\n",
      "INFO:tensorflow:loss = 11.397339, step = 73000 (0.096 sec)\n",
      "INFO:tensorflow:global_step/sec: 982.919\n",
      "INFO:tensorflow:loss = 4.8982153, step = 73100 (0.104 sec)\n",
      "INFO:tensorflow:global_step/sec: 1020.94\n",
      "INFO:tensorflow:loss = 2.043067, step = 73200 (0.100 sec)\n",
      "INFO:tensorflow:global_step/sec: 983.184\n",
      "INFO:tensorflow:loss = 6.104585, step = 73300 (0.100 sec)\n",
      "INFO:tensorflow:global_step/sec: 977.853\n",
      "INFO:tensorflow:loss = 15.916225, step = 73400 (0.100 sec)\n",
      "INFO:tensorflow:global_step/sec: 1055.64\n",
      "INFO:tensorflow:loss = 10.430894, step = 73500 (0.098 sec)\n",
      "INFO:tensorflow:global_step/sec: 984.105\n",
      "INFO:tensorflow:loss = 23.041306, step = 73600 (0.102 sec)\n",
      "INFO:tensorflow:global_step/sec: 1023.77\n",
      "INFO:tensorflow:loss = 11.860893, step = 73700 (0.095 sec)\n",
      "INFO:tensorflow:global_step/sec: 924.839\n",
      "INFO:tensorflow:loss = 12.516019, step = 73800 (0.110 sec)\n",
      "INFO:tensorflow:global_step/sec: 1012.1\n",
      "INFO:tensorflow:loss = 4.176098, step = 73900 (0.098 sec)\n",
      "INFO:tensorflow:global_step/sec: 1025.92\n",
      "INFO:tensorflow:loss = 23.437382, step = 74000 (0.100 sec)\n",
      "INFO:tensorflow:global_step/sec: 937.287\n",
      "INFO:tensorflow:loss = 5.6888266, step = 74100 (0.103 sec)\n",
      "INFO:tensorflow:global_step/sec: 1054.64\n",
      "INFO:tensorflow:loss = 17.049248, step = 74200 (0.098 sec)\n",
      "INFO:tensorflow:global_step/sec: 1042.86\n",
      "INFO:tensorflow:loss = 9.735392, step = 74300 (0.096 sec)\n",
      "INFO:tensorflow:global_step/sec: 991.231\n",
      "INFO:tensorflow:loss = 20.211891, step = 74400 (0.103 sec)\n",
      "INFO:tensorflow:global_step/sec: 909.543\n",
      "INFO:tensorflow:loss = 7.903727, step = 74500 (0.108 sec)\n",
      "INFO:tensorflow:global_step/sec: 923.815\n",
      "INFO:tensorflow:loss = 6.4284515, step = 74600 (0.109 sec)\n",
      "INFO:tensorflow:global_step/sec: 977.794\n",
      "INFO:tensorflow:loss = 6.128812, step = 74700 (0.099 sec)\n",
      "INFO:tensorflow:global_step/sec: 1035.51\n",
      "INFO:tensorflow:loss = 0.53564996, step = 74800 (0.099 sec)\n",
      "INFO:tensorflow:global_step/sec: 996.757\n",
      "INFO:tensorflow:loss = 11.722239, step = 74900 (0.099 sec)\n",
      "INFO:tensorflow:global_step/sec: 947.756\n",
      "INFO:tensorflow:loss = 2.0488403, step = 75000 (0.104 sec)\n",
      "INFO:tensorflow:global_step/sec: 1058.02\n",
      "INFO:tensorflow:loss = 2.9881387, step = 75100 (0.098 sec)\n",
      "INFO:tensorflow:global_step/sec: 902.653\n",
      "INFO:tensorflow:loss = 28.432362, step = 75200 (0.111 sec)\n",
      "INFO:tensorflow:global_step/sec: 996.651\n",
      "INFO:tensorflow:loss = 7.2020216, step = 75300 (0.099 sec)\n",
      "INFO:tensorflow:global_step/sec: 993.315\n",
      "INFO:tensorflow:loss = 3.043149, step = 75400 (0.099 sec)\n",
      "INFO:tensorflow:global_step/sec: 1017.23\n",
      "INFO:tensorflow:loss = 10.397284, step = 75500 (0.101 sec)\n",
      "INFO:tensorflow:global_step/sec: 1061.8\n",
      "INFO:tensorflow:loss = 4.231318, step = 75600 (0.095 sec)\n",
      "INFO:tensorflow:global_step/sec: 1010.64\n",
      "INFO:tensorflow:loss = 12.026018, step = 75700 (0.095 sec)\n",
      "INFO:tensorflow:global_step/sec: 980.621\n",
      "INFO:tensorflow:loss = 25.53391, step = 75800 (0.102 sec)\n",
      "INFO:tensorflow:global_step/sec: 1081.53\n",
      "INFO:tensorflow:loss = 11.58363, step = 75900 (0.095 sec)\n",
      "INFO:tensorflow:global_step/sec: 986.473\n",
      "INFO:tensorflow:loss = 5.6605005, step = 76000 (0.101 sec)\n",
      "INFO:tensorflow:global_step/sec: 1031.73\n",
      "INFO:tensorflow:loss = 4.2105746, step = 76100 (0.097 sec)\n",
      "INFO:tensorflow:global_step/sec: 1017.24\n",
      "INFO:tensorflow:loss = 2.363761, step = 76200 (0.098 sec)\n",
      "INFO:tensorflow:global_step/sec: 1002.85\n",
      "INFO:tensorflow:loss = 11.898401, step = 76300 (0.103 sec)\n",
      "INFO:tensorflow:global_step/sec: 856.844\n",
      "INFO:tensorflow:loss = 5.940487, step = 76400 (0.114 sec)\n",
      "INFO:tensorflow:global_step/sec: 993.734\n",
      "INFO:tensorflow:loss = 11.197798, step = 76500 (0.097 sec)\n",
      "INFO:tensorflow:global_step/sec: 1008.56\n",
      "INFO:tensorflow:loss = 5.6304092, step = 76600 (0.102 sec)\n",
      "INFO:tensorflow:global_step/sec: 1041.68\n",
      "INFO:tensorflow:loss = 6.308239, step = 76700 (0.096 sec)\n",
      "INFO:tensorflow:global_step/sec: 1033.12\n",
      "INFO:tensorflow:loss = 4.2104797, step = 76800 (0.095 sec)\n",
      "INFO:tensorflow:global_step/sec: 959.303\n",
      "INFO:tensorflow:loss = 1.3169152, step = 76900 (0.105 sec)\n",
      "INFO:tensorflow:global_step/sec: 905.655\n",
      "INFO:tensorflow:loss = 12.528086, step = 77000 (0.109 sec)\n",
      "INFO:tensorflow:global_step/sec: 1041.47\n",
      "INFO:tensorflow:loss = 11.195869, step = 77100 (0.099 sec)\n",
      "INFO:tensorflow:global_step/sec: 1003.04\n",
      "INFO:tensorflow:loss = 9.273602, step = 77200 (0.099 sec)\n",
      "INFO:tensorflow:global_step/sec: 1056.93\n",
      "INFO:tensorflow:loss = 5.686309, step = 77300 (0.095 sec)\n",
      "INFO:tensorflow:global_step/sec: 952.002\n",
      "INFO:tensorflow:loss = 14.205745, step = 77400 (0.105 sec)\n",
      "INFO:tensorflow:global_step/sec: 1014.21\n",
      "INFO:tensorflow:loss = 15.121373, step = 77500 (0.098 sec)\n",
      "INFO:tensorflow:global_step/sec: 1057.72\n",
      "INFO:tensorflow:loss = 35.113647, step = 77600 (0.092 sec)\n",
      "INFO:tensorflow:global_step/sec: 864.356\n",
      "INFO:tensorflow:loss = 5.2897205, step = 77700 (0.120 sec)\n",
      "INFO:tensorflow:global_step/sec: 918.748\n",
      "INFO:tensorflow:loss = 5.0891705, step = 77800 (0.106 sec)\n",
      "INFO:tensorflow:global_step/sec: 1040.73\n",
      "INFO:tensorflow:loss = 11.413806, step = 77900 (0.097 sec)\n",
      "INFO:tensorflow:global_step/sec: 968.047\n",
      "INFO:tensorflow:loss = 3.9649506, step = 78000 (0.101 sec)\n",
      "INFO:tensorflow:global_step/sec: 1070.2\n",
      "INFO:tensorflow:loss = 7.3867235, step = 78100 (0.097 sec)\n",
      "INFO:tensorflow:global_step/sec: 1003.63\n",
      "INFO:tensorflow:loss = 4.3483973, step = 78200 (0.096 sec)\n",
      "INFO:tensorflow:global_step/sec: 988.064\n",
      "INFO:tensorflow:loss = 21.079338, step = 78300 (0.104 sec)\n",
      "INFO:tensorflow:global_step/sec: 953.841\n",
      "INFO:tensorflow:loss = 10.689681, step = 78400 (0.101 sec)\n",
      "INFO:tensorflow:global_step/sec: 939.521\n",
      "INFO:tensorflow:loss = 7.482656, step = 78500 (0.110 sec)\n",
      "INFO:tensorflow:global_step/sec: 999.389\n",
      "INFO:tensorflow:loss = 9.939904, step = 78600 (0.100 sec)\n",
      "INFO:tensorflow:global_step/sec: 1023.48\n",
      "INFO:tensorflow:loss = 24.886536, step = 78700 (0.098 sec)\n",
      "INFO:tensorflow:global_step/sec: 957.962\n",
      "INFO:tensorflow:loss = 22.935577, step = 78800 (0.104 sec)\n",
      "INFO:tensorflow:global_step/sec: 989.472\n",
      "INFO:tensorflow:loss = 5.988381, step = 78900 (0.100 sec)\n",
      "INFO:tensorflow:global_step/sec: 970.32\n",
      "INFO:tensorflow:loss = 4.0351067, step = 79000 (0.105 sec)\n",
      "INFO:tensorflow:global_step/sec: 973.235\n",
      "INFO:tensorflow:loss = 2.0059533, step = 79100 (0.101 sec)\n",
      "INFO:tensorflow:global_step/sec: 1055.39\n",
      "INFO:tensorflow:loss = 4.084154, step = 79200 (0.093 sec)\n",
      "INFO:tensorflow:global_step/sec: 1057.14\n",
      "INFO:tensorflow:loss = 14.788721, step = 79300 (0.097 sec)\n",
      "INFO:tensorflow:global_step/sec: 965.124\n",
      "INFO:tensorflow:loss = 25.426865, step = 79400 (0.104 sec)\n",
      "INFO:tensorflow:global_step/sec: 939.561\n",
      "INFO:tensorflow:loss = 3.9828143, step = 79500 (0.106 sec)\n",
      "INFO:tensorflow:global_step/sec: 1051.11\n",
      "INFO:tensorflow:loss = 19.689083, step = 79600 (0.092 sec)\n",
      "INFO:tensorflow:global_step/sec: 995.095\n",
      "INFO:tensorflow:loss = 15.429871, step = 79700 (0.101 sec)\n",
      "INFO:tensorflow:global_step/sec: 1025.65\n",
      "INFO:tensorflow:loss = 24.296318, step = 79800 (0.101 sec)\n",
      "INFO:tensorflow:global_step/sec: 912.49\n",
      "INFO:tensorflow:loss = 12.455602, step = 79900 (0.110 sec)\n",
      "INFO:tensorflow:Calling checkpoint listeners before saving checkpoint 80000...\n",
      "INFO:tensorflow:Saving checkpoints for 80000 into /content/drive/MyDrive/100programming/pythonML/models/autompg-dnnregressor/model.ckpt.\n",
      "INFO:tensorflow:Calling checkpoint listeners after saving checkpoint 80000...\n",
      "INFO:tensorflow:Loss for final step: 5.9946012.\n"
     ]
    },
    {
     "output_type": "execute_result",
     "data": {
      "text/plain": [
       "<tensorflow_estimator.python.estimator.canned.dnn.DNNRegressorV2 at 0x7f1a54469d90>"
      ]
     },
     "metadata": {},
     "execution_count": 42
    }
   ]
  },
  {
   "cell_type": "code",
   "metadata": {
    "colab": {
     "base_uri": "https://localhost:8080/"
    },
    "id": "FKkQ8sWjWdS6",
    "executionInfo": {
     "status": "ok",
     "timestamp": 1632647216492,
     "user_tz": -540,
     "elapsed": 1301,
     "user": {
      "displayName": "Take Okamoto",
      "photoUrl": "https://lh3.googleusercontent.com/a-/AOh14GhVqmNnut5L-0ft4xro2ZbcGFAS-3j24RhttYBBuQ=s64",
      "userId": "05374417784101071994"
     }
    },
    "outputId": "620a0cf6-c091-4e5f-b298-c0384aa6ba7c"
   },
   "source": [
    ""
   ],
   "execution_count": null,
   "outputs": [
    {
     "output_type": "stream",
     "name": "stdout",
     "text": [
      "INFO:tensorflow:Using default config.\n",
      "INFO:tensorflow:Using config: {'_model_dir': '/content/drive/MyDrive/100programming/pythonML/models/autompg-dnnregressor/', '_tf_random_seed': None, '_save_summary_steps': 100, '_save_checkpoints_steps': None, '_save_checkpoints_secs': 600, '_session_config': allow_soft_placement: true\n",
      "graph_options {\n",
      "  rewrite_options {\n",
      "    meta_optimizer_iterations: ONE\n",
      "  }\n",
      "}\n",
      ", '_keep_checkpoint_max': 5, '_keep_checkpoint_every_n_hours': 10000, '_log_step_count_steps': 100, '_train_distribute': None, '_device_fn': None, '_protocol': None, '_eval_distribute': None, '_experimental_distribute': None, '_experimental_max_worker_delay_secs': None, '_session_creation_timeout_secs': 7200, '_checkpoint_save_graph_def': True, '_service': None, '_cluster_spec': ClusterSpec({}), '_task_type': 'worker', '_task_id': 0, '_global_id_in_cluster': 0, '_master': '', '_evaluation_master': '', '_is_chief': True, '_num_ps_replicas': 0, '_num_worker_replicas': 1}\n",
      "INFO:tensorflow:Calling model_fn.\n",
      "INFO:tensorflow:Done calling model_fn.\n",
      "INFO:tensorflow:Starting evaluation at 2021-09-26T09:06:54\n",
      "INFO:tensorflow:Graph was finalized.\n",
      "INFO:tensorflow:Restoring parameters from /content/drive/MyDrive/100programming/pythonML/models/autompg-dnnregressor/model.ckpt-80000\n",
      "INFO:tensorflow:Running local_init_op.\n",
      "INFO:tensorflow:Done running local_init_op.\n",
      "INFO:tensorflow:Inference Time : 0.27684s\n",
      "INFO:tensorflow:Finished evaluation at 2021-09-26-09:06:54\n",
      "INFO:tensorflow:Saving dict for global step 80000: average_loss = 7.716327, global_step = 80000, label/mean = 22.572153, loss = 7.7177444, prediction/mean = 22.85655\n",
      "INFO:tensorflow:Saving 'checkpoint_path' summary for global step 80000: /content/drive/MyDrive/100programming/pythonML/models/autompg-dnnregressor/model.ckpt-80000\n",
      "Average-Loss 7.7163\n",
      "INFO:tensorflow:Calling model_fn.\n",
      "INFO:tensorflow:Done calling model_fn.\n",
      "INFO:tensorflow:Graph was finalized.\n",
      "INFO:tensorflow:Restoring parameters from /content/drive/MyDrive/100programming/pythonML/models/autompg-dnnregressor/model.ckpt-80000\n",
      "INFO:tensorflow:Running local_init_op.\n",
      "INFO:tensorflow:Done running local_init_op.\n",
      "{'predictions': array([19.824444], dtype=float32)}\n"
     ]
    }
   ]
  },
  {
   "cell_type": "code",
   "metadata": {
    "colab": {
     "base_uri": "https://localhost:8080/"
    },
    "id": "9Mkxm59yWzx6",
    "executionInfo": {
     "status": "ok",
     "timestamp": 1632647912548,
     "user_tz": -540,
     "elapsed": 46039,
     "user": {
      "displayName": "Take Okamoto",
      "photoUrl": "https://lh3.googleusercontent.com/a-/AOh14GhVqmNnut5L-0ft4xro2ZbcGFAS-3j24RhttYBBuQ=s64",
      "userId": "05374417784101071994"
     }
    },
    "outputId": "5dc80632-69c7-4c2e-8f49-f14d5cf2f54c"
   },
   "source": [
    "boosted_tree = tf.estimator.BoostedTreesRegressor(feature_columns=all_features_columns, n_batches_per_layer=20, n_trees=200)\n",
    "boosted_tree.train(input_fn=lambda:train_input_fn(df_train_norm, batch_size=BATCH_SIZE))\n",
    "eval_results = boosted_tree.evaluate(input_fn=lambda:eval_input_fn(df_test_norm, batch_size=8))\n",
    "print(\"Average-Loss {:.4f}\".format(eval_results[\"average_loss\"]))"
   ],
   "execution_count": null,
   "outputs": [
    {
     "output_type": "stream",
     "name": "stdout",
     "text": [
      "INFO:tensorflow:Using default config.\n",
      "WARNING:tensorflow:Using temporary folder as model directory: /tmp/tmpc528hkha\n",
      "INFO:tensorflow:Using config: {'_model_dir': '/tmp/tmpc528hkha', '_tf_random_seed': None, '_save_summary_steps': 100, '_save_checkpoints_steps': None, '_save_checkpoints_secs': 600, '_session_config': allow_soft_placement: true\n",
      "graph_options {\n",
      "  rewrite_options {\n",
      "    meta_optimizer_iterations: ONE\n",
      "  }\n",
      "}\n",
      ", '_keep_checkpoint_max': 5, '_keep_checkpoint_every_n_hours': 10000, '_log_step_count_steps': 100, '_train_distribute': None, '_device_fn': None, '_protocol': None, '_eval_distribute': None, '_experimental_distribute': None, '_experimental_max_worker_delay_secs': None, '_session_creation_timeout_secs': 7200, '_checkpoint_save_graph_def': True, '_service': None, '_cluster_spec': ClusterSpec({}), '_task_type': 'worker', '_task_id': 0, '_global_id_in_cluster': 0, '_master': '', '_evaluation_master': '', '_is_chief': True, '_num_ps_replicas': 0, '_num_worker_replicas': 1}\n",
      "WARNING:tensorflow:From /usr/local/lib/python3.7/dist-packages/tensorflow_estimator/python/estimator/canned/boosted_trees.py:397: VocabularyListCategoricalColumn._num_buckets (from tensorflow.python.feature_column.feature_column_v2) is deprecated and will be removed in a future version.\n",
      "Instructions for updating:\n",
      "The old _FeatureColumn APIs are being deprecated. Please use the new FeatureColumn APIs instead.\n",
      "INFO:tensorflow:Calling model_fn.\n",
      "INFO:tensorflow:Done calling model_fn.\n",
      "INFO:tensorflow:Create CheckpointSaverHook.\n",
      "WARNING:tensorflow:Issue encountered when serializing resources.\n",
      "Type is unsupported, or the types of the items don't match field type in CollectionDef. Note this is a warning and probably safe to ignore.\n",
      "'_Resource' object has no attribute 'name'\n",
      "INFO:tensorflow:Graph was finalized.\n",
      "INFO:tensorflow:Running local_init_op.\n",
      "INFO:tensorflow:Done running local_init_op.\n",
      "WARNING:tensorflow:Issue encountered when serializing resources.\n",
      "Type is unsupported, or the types of the items don't match field type in CollectionDef. Note this is a warning and probably safe to ignore.\n",
      "'_Resource' object has no attribute 'name'\n",
      "INFO:tensorflow:Calling checkpoint listeners before saving checkpoint 0...\n",
      "INFO:tensorflow:Saving checkpoints for 0 into /tmp/tmpc528hkha/model.ckpt.\n",
      "WARNING:tensorflow:Issue encountered when serializing resources.\n",
      "Type is unsupported, or the types of the items don't match field type in CollectionDef. Note this is a warning and probably safe to ignore.\n",
      "'_Resource' object has no attribute 'name'\n",
      "INFO:tensorflow:Calling checkpoint listeners after saving checkpoint 0...\n",
      "INFO:tensorflow:loss = 554.35754, step = 0\n",
      "INFO:tensorflow:loss = 333.71252, step = 80 (0.343 sec)\n",
      "INFO:tensorflow:global_step/sec: 206.279\n",
      "INFO:tensorflow:loss = 152.84357, step = 180 (0.265 sec)\n",
      "INFO:tensorflow:global_step/sec: 642.259\n",
      "INFO:tensorflow:loss = 57.872417, step = 280 (0.152 sec)\n",
      "INFO:tensorflow:global_step/sec: 657.795\n",
      "INFO:tensorflow:loss = 21.734457, step = 380 (0.149 sec)\n",
      "INFO:tensorflow:global_step/sec: 683.198\n",
      "INFO:tensorflow:loss = 11.765897, step = 480 (0.143 sec)\n",
      "INFO:tensorflow:global_step/sec: 700.44\n",
      "INFO:tensorflow:loss = 5.437236, step = 580 (0.156 sec)\n",
      "INFO:tensorflow:global_step/sec: 605.305\n",
      "INFO:tensorflow:loss = 4.10448, step = 680 (0.147 sec)\n",
      "INFO:tensorflow:global_step/sec: 690.286\n",
      "INFO:tensorflow:loss = 6.2940063, step = 780 (0.147 sec)\n",
      "INFO:tensorflow:global_step/sec: 701.19\n",
      "INFO:tensorflow:loss = 3.1341045, step = 880 (0.149 sec)\n",
      "INFO:tensorflow:global_step/sec: 658.325\n",
      "INFO:tensorflow:loss = 1.4296262, step = 980 (0.166 sec)\n",
      "INFO:tensorflow:global_step/sec: 619.947\n",
      "INFO:tensorflow:loss = 3.3331475, step = 1080 (0.153 sec)\n",
      "INFO:tensorflow:global_step/sec: 651.386\n",
      "INFO:tensorflow:loss = 5.941187, step = 1180 (0.139 sec)\n",
      "INFO:tensorflow:global_step/sec: 683.169\n",
      "INFO:tensorflow:loss = 0.3328449, step = 1280 (0.152 sec)\n",
      "INFO:tensorflow:global_step/sec: 679.499\n",
      "INFO:tensorflow:loss = 0.676631, step = 1380 (0.144 sec)\n",
      "INFO:tensorflow:global_step/sec: 698.499\n",
      "INFO:tensorflow:loss = 2.6811318, step = 1480 (0.152 sec)\n",
      "INFO:tensorflow:global_step/sec: 661.704\n",
      "INFO:tensorflow:loss = 2.664127, step = 1580 (0.147 sec)\n",
      "INFO:tensorflow:global_step/sec: 641.062\n",
      "INFO:tensorflow:loss = 2.1519232, step = 1680 (0.164 sec)\n",
      "INFO:tensorflow:global_step/sec: 645.631\n",
      "INFO:tensorflow:loss = 1.0954111, step = 1780 (0.146 sec)\n",
      "INFO:tensorflow:global_step/sec: 664.845\n",
      "INFO:tensorflow:loss = 1.631009, step = 1880 (0.150 sec)\n",
      "INFO:tensorflow:global_step/sec: 679.892\n",
      "INFO:tensorflow:loss = 0.793979, step = 1980 (0.148 sec)\n",
      "INFO:tensorflow:global_step/sec: 680.75\n",
      "INFO:tensorflow:loss = 0.94226, step = 2080 (0.155 sec)\n",
      "INFO:tensorflow:global_step/sec: 648.518\n",
      "INFO:tensorflow:loss = 1.5410498, step = 2180 (0.150 sec)\n",
      "INFO:tensorflow:global_step/sec: 659.832\n",
      "INFO:tensorflow:loss = 0.61569405, step = 2280 (0.153 sec)\n",
      "INFO:tensorflow:global_step/sec: 624.977\n",
      "INFO:tensorflow:loss = 2.739181, step = 2380 (0.153 sec)\n",
      "INFO:tensorflow:global_step/sec: 671.61\n",
      "INFO:tensorflow:loss = 1.74873, step = 2480 (0.151 sec)\n",
      "INFO:tensorflow:global_step/sec: 661.887\n",
      "INFO:tensorflow:loss = 2.0920184, step = 2580 (0.155 sec)\n",
      "INFO:tensorflow:global_step/sec: 632.806\n",
      "INFO:tensorflow:loss = 0.3937559, step = 2680 (0.152 sec)\n",
      "INFO:tensorflow:global_step/sec: 686.85\n",
      "INFO:tensorflow:loss = 0.8060647, step = 2780 (0.153 sec)\n",
      "INFO:tensorflow:global_step/sec: 656.912\n",
      "INFO:tensorflow:loss = 0.8093848, step = 2880 (0.148 sec)\n",
      "INFO:tensorflow:global_step/sec: 676.051\n",
      "INFO:tensorflow:loss = 0.7244781, step = 2980 (0.152 sec)\n",
      "INFO:tensorflow:global_step/sec: 633.127\n",
      "INFO:tensorflow:loss = 0.59209037, step = 3080 (0.149 sec)\n",
      "INFO:tensorflow:global_step/sec: 684.458\n",
      "INFO:tensorflow:loss = 1.9292098, step = 3180 (0.152 sec)\n",
      "INFO:tensorflow:global_step/sec: 654.475\n",
      "INFO:tensorflow:loss = 0.7092555, step = 3280 (0.150 sec)\n",
      "INFO:tensorflow:global_step/sec: 683.274\n",
      "INFO:tensorflow:loss = 0.58754444, step = 3380 (0.149 sec)\n",
      "INFO:tensorflow:global_step/sec: 653.511\n",
      "INFO:tensorflow:loss = 0.51395524, step = 3480 (0.152 sec)\n",
      "INFO:tensorflow:global_step/sec: 675.015\n",
      "INFO:tensorflow:loss = 0.42299083, step = 3580 (0.152 sec)\n",
      "INFO:tensorflow:global_step/sec: 617.53\n",
      "INFO:tensorflow:loss = 0.2415255, step = 3680 (0.173 sec)\n",
      "INFO:tensorflow:global_step/sec: 604.433\n",
      "INFO:tensorflow:loss = 0.3438986, step = 3780 (0.153 sec)\n",
      "INFO:tensorflow:global_step/sec: 660.027\n",
      "INFO:tensorflow:loss = 0.28656182, step = 3880 (0.157 sec)\n",
      "INFO:tensorflow:global_step/sec: 635.804\n",
      "INFO:tensorflow:loss = 1.0857372, step = 3980 (0.154 sec)\n",
      "INFO:tensorflow:global_step/sec: 606.777\n",
      "INFO:tensorflow:loss = 0.6867049, step = 4080 (0.175 sec)\n",
      "INFO:tensorflow:global_step/sec: 608.792\n",
      "INFO:tensorflow:loss = 0.12599263, step = 4180 (0.154 sec)\n",
      "INFO:tensorflow:global_step/sec: 628.893\n",
      "INFO:tensorflow:loss = 0.33551675, step = 4280 (0.155 sec)\n",
      "INFO:tensorflow:global_step/sec: 614.44\n",
      "INFO:tensorflow:loss = 0.38279995, step = 4380 (0.174 sec)\n",
      "INFO:tensorflow:global_step/sec: 610.548\n",
      "INFO:tensorflow:loss = 0.53733605, step = 4480 (0.163 sec)\n",
      "INFO:tensorflow:global_step/sec: 614.435\n",
      "INFO:tensorflow:loss = 0.50112486, step = 4580 (0.159 sec)\n",
      "INFO:tensorflow:global_step/sec: 637.776\n",
      "INFO:tensorflow:loss = 0.56461227, step = 4680 (0.162 sec)\n",
      "INFO:tensorflow:global_step/sec: 619.544\n",
      "INFO:tensorflow:loss = 0.58842385, step = 4780 (0.148 sec)\n",
      "INFO:tensorflow:global_step/sec: 649.925\n",
      "INFO:tensorflow:loss = 0.22896244, step = 4880 (0.160 sec)\n",
      "INFO:tensorflow:global_step/sec: 610.226\n",
      "INFO:tensorflow:loss = 0.12911047, step = 4980 (0.171 sec)\n",
      "INFO:tensorflow:global_step/sec: 607.784\n",
      "INFO:tensorflow:loss = 0.10265857, step = 5080 (0.158 sec)\n",
      "INFO:tensorflow:global_step/sec: 642.63\n",
      "INFO:tensorflow:loss = 0.561837, step = 5180 (0.159 sec)\n",
      "INFO:tensorflow:global_step/sec: 619.489\n",
      "INFO:tensorflow:loss = 0.20304826, step = 5280 (0.161 sec)\n",
      "INFO:tensorflow:global_step/sec: 627.431\n",
      "INFO:tensorflow:loss = 0.6897445, step = 5380 (0.166 sec)\n",
      "INFO:tensorflow:global_step/sec: 570.249\n",
      "INFO:tensorflow:loss = 0.24001247, step = 5480 (0.161 sec)\n",
      "INFO:tensorflow:global_step/sec: 629.13\n",
      "INFO:tensorflow:loss = 0.31396216, step = 5580 (0.172 sec)\n",
      "INFO:tensorflow:global_step/sec: 591.826\n",
      "INFO:tensorflow:loss = 0.4981479, step = 5680 (0.168 sec)\n",
      "INFO:tensorflow:global_step/sec: 604.507\n",
      "INFO:tensorflow:loss = 0.2365854, step = 5780 (0.159 sec)\n",
      "INFO:tensorflow:global_step/sec: 608.738\n",
      "INFO:tensorflow:loss = 0.09779421, step = 5880 (0.166 sec)\n",
      "INFO:tensorflow:global_step/sec: 627.299\n",
      "INFO:tensorflow:loss = 0.23327285, step = 5980 (0.166 sec)\n",
      "INFO:tensorflow:global_step/sec: 588.185\n",
      "INFO:tensorflow:loss = 0.10406676, step = 6080 (0.155 sec)\n",
      "INFO:tensorflow:global_step/sec: 653.234\n",
      "INFO:tensorflow:loss = 0.059297092, step = 6180 (0.164 sec)\n",
      "INFO:tensorflow:global_step/sec: 590.525\n",
      "INFO:tensorflow:loss = 0.17707199, step = 6280 (0.168 sec)\n",
      "INFO:tensorflow:global_step/sec: 611.145\n",
      "INFO:tensorflow:loss = 0.086394906, step = 6380 (0.165 sec)\n",
      "INFO:tensorflow:global_step/sec: 611.141\n",
      "INFO:tensorflow:loss = 0.19934379, step = 6480 (0.160 sec)\n",
      "INFO:tensorflow:global_step/sec: 615.315\n",
      "INFO:tensorflow:loss = 0.2846903, step = 6580 (0.161 sec)\n",
      "INFO:tensorflow:global_step/sec: 615.51\n",
      "INFO:tensorflow:loss = 0.15862998, step = 6680 (0.161 sec)\n",
      "INFO:tensorflow:global_step/sec: 626.614\n",
      "INFO:tensorflow:loss = 0.075691976, step = 6780 (0.170 sec)\n",
      "INFO:tensorflow:global_step/sec: 588.627\n",
      "INFO:tensorflow:loss = 0.116561465, step = 6880 (0.165 sec)\n",
      "INFO:tensorflow:global_step/sec: 606.211\n",
      "INFO:tensorflow:loss = 0.24181595, step = 6980 (0.169 sec)\n",
      "INFO:tensorflow:global_step/sec: 592.013\n",
      "INFO:tensorflow:loss = 0.043772615, step = 7080 (0.167 sec)\n",
      "INFO:tensorflow:global_step/sec: 606.524\n",
      "INFO:tensorflow:loss = 0.42348027, step = 7180 (0.160 sec)\n",
      "INFO:tensorflow:global_step/sec: 605.811\n",
      "INFO:tensorflow:loss = 0.2090609, step = 7280 (0.164 sec)\n",
      "INFO:tensorflow:global_step/sec: 589.586\n",
      "INFO:tensorflow:loss = 0.12621543, step = 7380 (0.181 sec)\n",
      "INFO:tensorflow:global_step/sec: 572.6\n",
      "INFO:tensorflow:loss = 0.1441736, step = 7480 (0.171 sec)\n",
      "INFO:tensorflow:global_step/sec: 597.787\n",
      "INFO:tensorflow:loss = 0.22541267, step = 7580 (0.161 sec)\n",
      "INFO:tensorflow:global_step/sec: 627.11\n",
      "INFO:tensorflow:loss = 0.08346537, step = 7680 (0.166 sec)\n",
      "INFO:tensorflow:global_step/sec: 600.039\n",
      "INFO:tensorflow:loss = 0.075559445, step = 7780 (0.164 sec)\n",
      "INFO:tensorflow:global_step/sec: 589.415\n",
      "INFO:tensorflow:loss = 0.18258637, step = 7880 (0.163 sec)\n",
      "INFO:tensorflow:global_step/sec: 625.522\n",
      "INFO:tensorflow:loss = 0.064161554, step = 7980 (0.176 sec)\n",
      "INFO:tensorflow:global_step/sec: 560.938\n",
      "INFO:tensorflow:loss = 0.040747046, step = 8080 (0.176 sec)\n",
      "INFO:tensorflow:global_step/sec: 571.853\n",
      "INFO:tensorflow:loss = 0.024884114, step = 8180 (0.170 sec)\n",
      "INFO:tensorflow:global_step/sec: 592.356\n",
      "INFO:tensorflow:loss = 0.116179496, step = 8280 (0.179 sec)\n",
      "INFO:tensorflow:global_step/sec: 565.552\n",
      "INFO:tensorflow:loss = 0.046141714, step = 8380 (0.163 sec)\n",
      "INFO:tensorflow:global_step/sec: 587.64\n",
      "INFO:tensorflow:loss = 0.1095513, step = 8480 (0.165 sec)\n",
      "INFO:tensorflow:global_step/sec: 622.421\n",
      "INFO:tensorflow:loss = 0.04098729, step = 8580 (0.178 sec)\n",
      "INFO:tensorflow:global_step/sec: 565.042\n",
      "INFO:tensorflow:loss = 0.12603775, step = 8680 (0.172 sec)\n",
      "INFO:tensorflow:global_step/sec: 581.87\n",
      "INFO:tensorflow:loss = 0.029890463, step = 8780 (0.166 sec)\n",
      "INFO:tensorflow:global_step/sec: 609.01\n",
      "INFO:tensorflow:loss = 0.038861774, step = 8880 (0.169 sec)\n",
      "INFO:tensorflow:global_step/sec: 591.229\n",
      "INFO:tensorflow:loss = 0.051491708, step = 8980 (0.165 sec)\n",
      "INFO:tensorflow:global_step/sec: 570.529\n",
      "INFO:tensorflow:loss = 0.027770635, step = 9080 (0.171 sec)\n",
      "INFO:tensorflow:global_step/sec: 608.525\n",
      "INFO:tensorflow:loss = 0.03811439, step = 9180 (0.180 sec)\n",
      "INFO:tensorflow:global_step/sec: 553.259\n",
      "INFO:tensorflow:loss = 0.021685068, step = 9280 (0.177 sec)\n",
      "INFO:tensorflow:global_step/sec: 564.626\n",
      "INFO:tensorflow:loss = 0.021349708, step = 9380 (0.174 sec)\n",
      "INFO:tensorflow:global_step/sec: 575.564\n",
      "INFO:tensorflow:loss = 0.046655856, step = 9480 (0.180 sec)\n",
      "INFO:tensorflow:global_step/sec: 567.112\n",
      "INFO:tensorflow:loss = 0.099964365, step = 9580 (0.170 sec)\n",
      "INFO:tensorflow:global_step/sec: 569.009\n",
      "INFO:tensorflow:loss = 0.16019256, step = 9680 (0.168 sec)\n",
      "INFO:tensorflow:global_step/sec: 593.28\n",
      "INFO:tensorflow:loss = 0.040802702, step = 9780 (0.192 sec)\n",
      "INFO:tensorflow:global_step/sec: 531.291\n",
      "INFO:tensorflow:loss = 0.014745191, step = 9880 (0.175 sec)\n",
      "INFO:tensorflow:global_step/sec: 577.056\n",
      "INFO:tensorflow:loss = 0.025380861, step = 9980 (0.168 sec)\n",
      "INFO:tensorflow:global_step/sec: 594.148\n",
      "INFO:tensorflow:loss = 0.031446535, step = 10080 (0.182 sec)\n",
      "INFO:tensorflow:global_step/sec: 548.003\n",
      "INFO:tensorflow:loss = 0.042002067, step = 10180 (0.184 sec)\n",
      "INFO:tensorflow:global_step/sec: 522.2\n",
      "INFO:tensorflow:loss = 0.010027468, step = 10280 (0.179 sec)\n",
      "INFO:tensorflow:global_step/sec: 573.45\n",
      "INFO:tensorflow:loss = 0.05736368, step = 10380 (0.173 sec)\n",
      "INFO:tensorflow:global_step/sec: 560.369\n",
      "INFO:tensorflow:loss = 0.04610665, step = 10480 (0.175 sec)\n",
      "INFO:tensorflow:global_step/sec: 595.576\n",
      "INFO:tensorflow:loss = 0.05592336, step = 10580 (0.175 sec)\n",
      "INFO:tensorflow:global_step/sec: 569.307\n",
      "INFO:tensorflow:loss = 0.07239132, step = 10680 (0.168 sec)\n",
      "INFO:tensorflow:global_step/sec: 572.318\n",
      "INFO:tensorflow:loss = 0.06555163, step = 10780 (0.175 sec)\n",
      "INFO:tensorflow:global_step/sec: 577.26\n",
      "INFO:tensorflow:loss = 0.031275094, step = 10880 (0.174 sec)\n",
      "INFO:tensorflow:global_step/sec: 556.38\n",
      "INFO:tensorflow:loss = 0.07494953, step = 10980 (0.180 sec)\n",
      "INFO:tensorflow:global_step/sec: 555.475\n",
      "INFO:tensorflow:loss = 0.0107990615, step = 11080 (0.184 sec)\n",
      "INFO:tensorflow:global_step/sec: 574.241\n",
      "INFO:tensorflow:loss = 0.012810738, step = 11180 (0.173 sec)\n",
      "INFO:tensorflow:global_step/sec: 584.836\n",
      "INFO:tensorflow:loss = 0.0095076645, step = 11280 (0.168 sec)\n",
      "INFO:tensorflow:global_step/sec: 586.294\n",
      "INFO:tensorflow:loss = 0.0058582854, step = 11380 (0.166 sec)\n",
      "INFO:tensorflow:global_step/sec: 587.964\n",
      "INFO:tensorflow:loss = 0.011493404, step = 11480 (0.177 sec)\n",
      "INFO:tensorflow:global_step/sec: 576.675\n",
      "INFO:tensorflow:loss = 0.047227375, step = 11580 (0.177 sec)\n",
      "INFO:tensorflow:global_step/sec: 563.666\n",
      "INFO:tensorflow:loss = 0.07270453, step = 11680 (0.178 sec)\n",
      "INFO:tensorflow:global_step/sec: 560.181\n",
      "INFO:tensorflow:loss = 0.011381713, step = 11780 (0.176 sec)\n",
      "INFO:tensorflow:global_step/sec: 573.779\n",
      "INFO:tensorflow:loss = 0.04753341, step = 11880 (0.180 sec)\n",
      "INFO:tensorflow:global_step/sec: 562.334\n",
      "INFO:tensorflow:loss = 0.009903232, step = 11980 (0.177 sec)\n",
      "INFO:tensorflow:global_step/sec: 541.886\n",
      "INFO:tensorflow:loss = 0.0345137, step = 12080 (0.182 sec)\n",
      "INFO:tensorflow:global_step/sec: 550.271\n",
      "INFO:tensorflow:loss = 0.05365532, step = 12180 (0.180 sec)\n",
      "INFO:tensorflow:global_step/sec: 563.204\n",
      "INFO:tensorflow:loss = 0.019484118, step = 12280 (0.184 sec)\n",
      "INFO:tensorflow:global_step/sec: 547.686\n",
      "INFO:tensorflow:loss = 0.011875246, step = 12380 (0.185 sec)\n",
      "INFO:tensorflow:global_step/sec: 537.11\n",
      "INFO:tensorflow:loss = 0.010192668, step = 12480 (0.175 sec)\n",
      "INFO:tensorflow:global_step/sec: 581.783\n",
      "INFO:tensorflow:loss = 0.016425136, step = 12580 (0.172 sec)\n",
      "INFO:tensorflow:global_step/sec: 563.16\n",
      "INFO:tensorflow:loss = 0.008772682, step = 12680 (0.180 sec)\n",
      "INFO:tensorflow:global_step/sec: 558.065\n",
      "INFO:tensorflow:loss = 0.015231427, step = 12780 (0.178 sec)\n",
      "INFO:tensorflow:global_step/sec: 573.024\n",
      "INFO:tensorflow:loss = 0.031438697, step = 12880 (0.178 sec)\n",
      "INFO:tensorflow:global_step/sec: 562.349\n",
      "INFO:tensorflow:loss = 0.0030994604, step = 12980 (0.184 sec)\n",
      "INFO:tensorflow:global_step/sec: 542.092\n",
      "INFO:tensorflow:loss = 0.051708147, step = 13080 (0.178 sec)\n",
      "INFO:tensorflow:global_step/sec: 560.373\n",
      "INFO:tensorflow:loss = 0.011532525, step = 13180 (0.187 sec)\n",
      "INFO:tensorflow:global_step/sec: 526.721\n",
      "INFO:tensorflow:loss = 0.008665995, step = 13280 (0.180 sec)\n",
      "INFO:tensorflow:global_step/sec: 560.975\n",
      "INFO:tensorflow:loss = 0.010137926, step = 13380 (0.183 sec)\n",
      "INFO:tensorflow:global_step/sec: 540.72\n",
      "INFO:tensorflow:loss = 0.0033336007, step = 13480 (0.198 sec)\n",
      "INFO:tensorflow:global_step/sec: 507.397\n",
      "INFO:tensorflow:loss = 0.010704138, step = 13580 (0.198 sec)\n",
      "INFO:tensorflow:global_step/sec: 508.579\n",
      "INFO:tensorflow:loss = 0.010681008, step = 13680 (0.188 sec)\n",
      "INFO:tensorflow:global_step/sec: 519.047\n",
      "INFO:tensorflow:loss = 0.013496534, step = 13780 (0.187 sec)\n",
      "INFO:tensorflow:global_step/sec: 526.442\n",
      "INFO:tensorflow:loss = 0.008306724, step = 13880 (0.180 sec)\n",
      "INFO:tensorflow:global_step/sec: 575.721\n",
      "INFO:tensorflow:loss = 0.007978257, step = 13980 (0.183 sec)\n",
      "INFO:tensorflow:global_step/sec: 552.353\n",
      "INFO:tensorflow:loss = 0.03133688, step = 14080 (0.185 sec)\n",
      "INFO:tensorflow:global_step/sec: 541.22\n",
      "INFO:tensorflow:loss = 0.007565373, step = 14180 (0.182 sec)\n",
      "INFO:tensorflow:global_step/sec: 546.768\n",
      "INFO:tensorflow:loss = 0.010097153, step = 14280 (0.193 sec)\n",
      "INFO:tensorflow:global_step/sec: 517.344\n",
      "INFO:tensorflow:loss = 0.03521017, step = 14380 (0.183 sec)\n",
      "INFO:tensorflow:global_step/sec: 532.027\n",
      "INFO:tensorflow:loss = 0.011529469, step = 14480 (0.182 sec)\n",
      "INFO:tensorflow:global_step/sec: 544.621\n",
      "INFO:tensorflow:loss = 0.009576321, step = 14580 (0.194 sec)\n",
      "INFO:tensorflow:global_step/sec: 532.334\n",
      "INFO:tensorflow:loss = 0.008929939, step = 14680 (0.187 sec)\n",
      "INFO:tensorflow:global_step/sec: 523.63\n",
      "INFO:tensorflow:loss = 0.012080138, step = 14780 (0.192 sec)\n",
      "INFO:tensorflow:global_step/sec: 507.558\n",
      "INFO:tensorflow:loss = 0.017539764, step = 14880 (0.198 sec)\n",
      "INFO:tensorflow:global_step/sec: 511.57\n",
      "INFO:tensorflow:loss = 0.05046264, step = 14980 (0.189 sec)\n",
      "INFO:tensorflow:global_step/sec: 525.001\n",
      "INFO:tensorflow:loss = 0.0037780078, step = 15080 (0.187 sec)\n",
      "INFO:tensorflow:global_step/sec: 548.98\n",
      "INFO:tensorflow:loss = 0.0030575357, step = 15180 (0.182 sec)\n",
      "INFO:tensorflow:global_step/sec: 557.081\n",
      "INFO:tensorflow:loss = 0.0029744934, step = 15280 (0.191 sec)\n",
      "INFO:tensorflow:global_step/sec: 519.121\n",
      "INFO:tensorflow:loss = 0.008205758, step = 15380 (0.194 sec)\n",
      "INFO:tensorflow:global_step/sec: 511.16\n",
      "INFO:tensorflow:loss = 0.005954269, step = 15480 (0.187 sec)\n",
      "INFO:tensorflow:global_step/sec: 541.577\n",
      "INFO:tensorflow:loss = 0.007503192, step = 15580 (0.183 sec)\n",
      "INFO:tensorflow:global_step/sec: 535.047\n",
      "INFO:tensorflow:loss = 0.0027284818, step = 15680 (0.186 sec)\n",
      "INFO:tensorflow:global_step/sec: 536.445\n",
      "INFO:tensorflow:loss = 0.0043724384, step = 15780 (0.208 sec)\n",
      "INFO:tensorflow:global_step/sec: 488.579\n",
      "INFO:tensorflow:loss = 0.0075951796, step = 15880 (0.195 sec)\n",
      "INFO:tensorflow:global_step/sec: 515.2\n",
      "INFO:tensorflow:loss = 0.0031841435, step = 15980 (0.199 sec)\n",
      "INFO:tensorflow:global_step/sec: 503.022\n",
      "INFO:tensorflow:loss = 0.0070860963, step = 16080 (0.189 sec)\n",
      "INFO:tensorflow:global_step/sec: 526.349\n",
      "INFO:tensorflow:loss = 0.00316174, step = 16180 (0.187 sec)\n",
      "INFO:tensorflow:global_step/sec: 523.114\n",
      "INFO:tensorflow:loss = 0.004487789, step = 16280 (0.206 sec)\n",
      "INFO:tensorflow:global_step/sec: 489.989\n",
      "INFO:tensorflow:loss = 0.004045346, step = 16380 (0.195 sec)\n",
      "INFO:tensorflow:global_step/sec: 507.092\n",
      "INFO:tensorflow:loss = 0.004839284, step = 16480 (0.194 sec)\n",
      "INFO:tensorflow:global_step/sec: 530.406\n",
      "INFO:tensorflow:loss = 0.0075027198, step = 16580 (0.193 sec)\n",
      "INFO:tensorflow:global_step/sec: 524.431\n",
      "INFO:tensorflow:loss = 0.046743196, step = 16680 (0.189 sec)\n",
      "INFO:tensorflow:global_step/sec: 522.812\n",
      "INFO:tensorflow:loss = 0.03408247, step = 16780 (0.186 sec)\n",
      "INFO:tensorflow:global_step/sec: 526.01\n",
      "INFO:tensorflow:loss = 0.0011682711, step = 16880 (0.193 sec)\n",
      "INFO:tensorflow:global_step/sec: 498.053\n",
      "INFO:tensorflow:loss = 0.012547708, step = 16980 (0.204 sec)\n",
      "INFO:tensorflow:global_step/sec: 519.865\n",
      "INFO:tensorflow:loss = 0.0039970903, step = 17080 (0.195 sec)\n",
      "INFO:tensorflow:global_step/sec: 508.63\n",
      "INFO:tensorflow:loss = 0.0031771425, step = 17180 (0.195 sec)\n",
      "INFO:tensorflow:global_step/sec: 509.904\n",
      "INFO:tensorflow:loss = 0.006745071, step = 17280 (0.192 sec)\n",
      "INFO:tensorflow:global_step/sec: 524.261\n",
      "INFO:tensorflow:loss = 0.0019448539, step = 17380 (0.184 sec)\n",
      "INFO:tensorflow:global_step/sec: 525.006\n",
      "INFO:tensorflow:loss = 0.00139009, step = 17480 (0.199 sec)\n",
      "INFO:tensorflow:global_step/sec: 513.184\n",
      "INFO:tensorflow:loss = 0.0024456829, step = 17580 (0.199 sec)\n",
      "INFO:tensorflow:global_step/sec: 510.542\n",
      "INFO:tensorflow:loss = 0.0055969153, step = 17680 (0.194 sec)\n",
      "INFO:tensorflow:global_step/sec: 518.351\n",
      "INFO:tensorflow:loss = 0.0008232706, step = 17780 (0.186 sec)\n",
      "INFO:tensorflow:global_step/sec: 522.589\n",
      "INFO:tensorflow:loss = 0.0033617397, step = 17880 (0.197 sec)\n",
      "INFO:tensorflow:global_step/sec: 520.41\n",
      "INFO:tensorflow:loss = 0.0014487633, step = 17980 (0.199 sec)\n",
      "INFO:tensorflow:global_step/sec: 489.937\n",
      "INFO:tensorflow:loss = 0.004776762, step = 18080 (0.195 sec)\n",
      "INFO:tensorflow:global_step/sec: 519.129\n",
      "INFO:tensorflow:loss = 0.0024220608, step = 18180 (0.194 sec)\n",
      "INFO:tensorflow:global_step/sec: 487.355\n",
      "INFO:tensorflow:loss = 0.0020738887, step = 18280 (0.209 sec)\n",
      "INFO:tensorflow:global_step/sec: 501.659\n",
      "INFO:tensorflow:loss = 0.0008068725, step = 18380 (0.207 sec)\n",
      "INFO:tensorflow:global_step/sec: 483.944\n",
      "INFO:tensorflow:loss = 0.004070529, step = 18480 (0.211 sec)\n",
      "INFO:tensorflow:global_step/sec: 476.961\n",
      "INFO:tensorflow:loss = 0.0016232056, step = 18580 (0.204 sec)\n",
      "INFO:tensorflow:global_step/sec: 477.271\n",
      "INFO:tensorflow:loss = 0.0008878291, step = 18680 (0.198 sec)\n",
      "INFO:tensorflow:global_step/sec: 510.742\n",
      "INFO:tensorflow:loss = 0.0031169942, step = 18780 (0.200 sec)\n",
      "INFO:tensorflow:global_step/sec: 508.938\n",
      "INFO:tensorflow:loss = 0.00096362527, step = 18880 (0.198 sec)\n",
      "INFO:tensorflow:global_step/sec: 513.087\n",
      "INFO:tensorflow:loss = 0.0037948461, step = 18980 (0.206 sec)\n",
      "INFO:tensorflow:global_step/sec: 482.291\n",
      "INFO:tensorflow:loss = 0.0016698928, step = 19080 (0.194 sec)\n",
      "INFO:tensorflow:global_step/sec: 504.314\n",
      "INFO:tensorflow:loss = 0.003413238, step = 19180 (0.202 sec)\n",
      "INFO:tensorflow:global_step/sec: 495.783\n",
      "INFO:tensorflow:loss = 0.00080956984, step = 19280 (0.198 sec)\n",
      "INFO:tensorflow:global_step/sec: 507.442\n",
      "INFO:tensorflow:loss = 0.0014830703, step = 19380 (0.207 sec)\n",
      "INFO:tensorflow:global_step/sec: 480.694\n",
      "INFO:tensorflow:loss = 0.0016933094, step = 19480 (0.211 sec)\n",
      "INFO:tensorflow:global_step/sec: 473.464\n",
      "INFO:tensorflow:loss = 0.0014583876, step = 19580 (0.203 sec)\n",
      "INFO:tensorflow:global_step/sec: 498.467\n",
      "INFO:tensorflow:loss = 0.0030360203, step = 19680 (0.204 sec)\n",
      "INFO:tensorflow:global_step/sec: 500.489\n",
      "INFO:tensorflow:loss = 0.04415194, step = 19780 (0.198 sec)\n",
      "INFO:tensorflow:global_step/sec: 477.158\n",
      "INFO:tensorflow:loss = 0.0070086834, step = 19880 (0.203 sec)\n",
      "INFO:tensorflow:global_step/sec: 504.038\n",
      "INFO:tensorflow:loss = 0.03122046, step = 19980 (0.214 sec)\n",
      "INFO:tensorflow:global_step/sec: 475.653\n",
      "INFO:tensorflow:loss = 0.0017045235, step = 20080 (0.205 sec)\n",
      "INFO:tensorflow:global_step/sec: 495.431\n",
      "INFO:tensorflow:loss = 0.00088492956, step = 20180 (0.206 sec)\n",
      "INFO:tensorflow:global_step/sec: 482.056\n",
      "INFO:tensorflow:loss = 0.0050466936, step = 20280 (0.205 sec)\n",
      "INFO:tensorflow:global_step/sec: 490.748\n",
      "INFO:tensorflow:loss = 0.0012573906, step = 20380 (0.194 sec)\n",
      "INFO:tensorflow:global_step/sec: 489.165\n",
      "INFO:tensorflow:loss = 0.0019449128, step = 20480 (0.216 sec)\n",
      "INFO:tensorflow:global_step/sec: 476.68\n",
      "INFO:tensorflow:loss = 0.0015436711, step = 20580 (0.206 sec)\n",
      "INFO:tensorflow:global_step/sec: 488.285\n",
      "INFO:tensorflow:loss = 0.0017729674, step = 20680 (0.208 sec)\n",
      "INFO:tensorflow:global_step/sec: 480.464\n",
      "INFO:tensorflow:loss = 0.00096830475, step = 20780 (0.209 sec)\n",
      "INFO:tensorflow:global_step/sec: 472.386\n",
      "INFO:tensorflow:loss = 0.0008596023, step = 20880 (0.211 sec)\n",
      "INFO:tensorflow:global_step/sec: 474.77\n",
      "INFO:tensorflow:loss = 0.0013422284, step = 20980 (0.235 sec)\n",
      "INFO:tensorflow:global_step/sec: 421.543\n",
      "INFO:tensorflow:loss = 0.0009788598, step = 21080 (0.212 sec)\n",
      "INFO:tensorflow:global_step/sec: 479.983\n",
      "INFO:tensorflow:loss = 0.0005575614, step = 21180 (0.208 sec)\n",
      "INFO:tensorflow:global_step/sec: 486.13\n",
      "INFO:tensorflow:loss = 0.0014839956, step = 21280 (0.209 sec)\n",
      "INFO:tensorflow:global_step/sec: 475.648\n",
      "INFO:tensorflow:loss = 0.0007620534, step = 21380 (0.205 sec)\n",
      "INFO:tensorflow:global_step/sec: 465.376\n",
      "INFO:tensorflow:loss = 0.001031637, step = 21480 (0.216 sec)\n",
      "INFO:tensorflow:global_step/sec: 486.835\n",
      "INFO:tensorflow:loss = 0.003506464, step = 21580 (0.209 sec)\n",
      "INFO:tensorflow:global_step/sec: 464.164\n",
      "INFO:tensorflow:loss = 0.03312746, step = 21680 (0.209 sec)\n",
      "INFO:tensorflow:global_step/sec: 481.757\n",
      "INFO:tensorflow:loss = 0.0019337569, step = 21780 (0.207 sec)\n",
      "INFO:tensorflow:global_step/sec: 479.708\n",
      "INFO:tensorflow:loss = 0.0017229307, step = 21880 (0.217 sec)\n",
      "INFO:tensorflow:global_step/sec: 457.66\n",
      "INFO:tensorflow:loss = 0.0013816131, step = 21980 (0.220 sec)\n",
      "INFO:tensorflow:global_step/sec: 472.725\n",
      "INFO:tensorflow:loss = 0.0013831747, step = 22080 (0.210 sec)\n",
      "INFO:tensorflow:global_step/sec: 472.784\n",
      "INFO:tensorflow:loss = 0.0012545486, step = 22180 (0.209 sec)\n",
      "INFO:tensorflow:global_step/sec: 466.266\n",
      "INFO:tensorflow:loss = 0.0011939505, step = 22280 (0.207 sec)\n",
      "INFO:tensorflow:global_step/sec: 465.902\n",
      "INFO:tensorflow:loss = 0.00060545653, step = 22380 (0.234 sec)\n",
      "INFO:tensorflow:global_step/sec: 441.19\n",
      "INFO:tensorflow:loss = 0.0007966137, step = 22480 (0.225 sec)\n",
      "INFO:tensorflow:global_step/sec: 449.001\n",
      "INFO:tensorflow:loss = 0.0012545461, step = 22580 (0.218 sec)\n",
      "INFO:tensorflow:global_step/sec: 461.205\n",
      "INFO:tensorflow:loss = 0.0006453496, step = 22680 (0.219 sec)\n",
      "INFO:tensorflow:global_step/sec: 456.399\n",
      "INFO:tensorflow:loss = 0.0007430133, step = 22780 (0.214 sec)\n",
      "INFO:tensorflow:global_step/sec: 443.715\n",
      "INFO:tensorflow:loss = 0.0014831242, step = 22880 (0.225 sec)\n",
      "INFO:tensorflow:global_step/sec: 452.292\n",
      "INFO:tensorflow:loss = 0.00049397844, step = 22980 (0.218 sec)\n",
      "INFO:tensorflow:global_step/sec: 461.877\n",
      "INFO:tensorflow:loss = 0.0005191243, step = 23080 (0.236 sec)\n",
      "INFO:tensorflow:global_step/sec: 433.005\n",
      "INFO:tensorflow:loss = 0.00036304825, step = 23180 (0.218 sec)\n",
      "INFO:tensorflow:global_step/sec: 459.383\n",
      "INFO:tensorflow:loss = 0.043929376, step = 23280 (0.226 sec)\n",
      "INFO:tensorflow:global_step/sec: 446.58\n",
      "INFO:tensorflow:loss = 0.025237642, step = 23380 (0.215 sec)\n",
      "INFO:tensorflow:global_step/sec: 457.62\n",
      "INFO:tensorflow:loss = 0.0006727453, step = 23480 (0.213 sec)\n",
      "INFO:tensorflow:global_step/sec: 472.573\n",
      "INFO:tensorflow:loss = 0.0011642266, step = 23580 (0.216 sec)\n",
      "INFO:tensorflow:global_step/sec: 463.576\n",
      "INFO:tensorflow:loss = 0.00075542077, step = 23680 (0.228 sec)\n",
      "INFO:tensorflow:global_step/sec: 441.414\n",
      "INFO:tensorflow:loss = 0.00060856226, step = 23780 (0.223 sec)\n",
      "INFO:tensorflow:global_step/sec: 441.453\n",
      "INFO:tensorflow:loss = 0.000328646, step = 23880 (0.222 sec)\n",
      "INFO:tensorflow:global_step/sec: 431.547\n",
      "INFO:tensorflow:loss = 0.00039417614, step = 23980 (0.244 sec)\n",
      "INFO:tensorflow:global_step/sec: 416.701\n",
      "INFO:tensorflow:Calling checkpoint listeners before saving checkpoint 24000...\n",
      "INFO:tensorflow:Saving checkpoints for 24000 into /tmp/tmpc528hkha/model.ckpt.\n",
      "WARNING:tensorflow:Issue encountered when serializing resources.\n",
      "Type is unsupported, or the types of the items don't match field type in CollectionDef. Note this is a warning and probably safe to ignore.\n",
      "'_Resource' object has no attribute 'name'\n",
      "INFO:tensorflow:Calling checkpoint listeners after saving checkpoint 24000...\n",
      "INFO:tensorflow:Loss for final step: 0.00085318397.\n",
      "INFO:tensorflow:Calling model_fn.\n",
      "INFO:tensorflow:Done calling model_fn.\n",
      "INFO:tensorflow:Starting evaluation at 2021-09-26T09:18:30\n",
      "INFO:tensorflow:Graph was finalized.\n",
      "INFO:tensorflow:Restoring parameters from /tmp/tmpc528hkha/model.ckpt-24000\n",
      "INFO:tensorflow:Running local_init_op.\n",
      "INFO:tensorflow:Done running local_init_op.\n",
      "INFO:tensorflow:Inference Time : 0.25244s\n",
      "INFO:tensorflow:Finished evaluation at 2021-09-26-09:18:31\n",
      "INFO:tensorflow:Saving dict for global step 24000: average_loss = 5.817866, global_step = 24000, label/mean = 22.572153, loss = 5.786998, prediction/mean = 22.791271\n",
      "WARNING:tensorflow:Issue encountered when serializing resources.\n",
      "Type is unsupported, or the types of the items don't match field type in CollectionDef. Note this is a warning and probably safe to ignore.\n",
      "'_Resource' object has no attribute 'name'\n",
      "INFO:tensorflow:Saving 'checkpoint_path' summary for global step 24000: /tmp/tmpc528hkha/model.ckpt-24000\n",
      "Average-Loss 5.8179\n"
     ]
    }
   ]
  },
  {
   "cell_type": "code",
   "metadata": {
    "colab": {
     "base_uri": "https://localhost:8080/",
     "height": 53
    },
    "id": "3ASGrDZnZWcF",
    "executionInfo": {
     "status": "ok",
     "timestamp": 1632651017839,
     "user_tz": -540,
     "elapsed": 259,
     "user": {
      "displayName": "Take Okamoto",
      "photoUrl": "https://lh3.googleusercontent.com/a-/AOh14GhVqmNnut5L-0ft4xro2ZbcGFAS-3j24RhttYBBuQ=s64",
      "userId": "05374417784101071994"
     }
    },
    "outputId": "a2e4f316-b523-4d7a-ece4-e3866ccb0ace"
   },
   "source": [
    "BUFFER_SIZE = 10000\n",
    "BATCH_SIZE = 64\n",
    "NUM_EPOCHS = 20\n",
    "steps_per_epoch = np.ceil(60000 / BATCH_SIZE)\n",
    "\n",
    "def preprocess(item):\n",
    "    image = item[\"image\"]\n",
    "    label = item[\"label\"]\n",
    "    image = tf.image.convert_image_dtype(image, tf.float32)\n",
    "    image = tf.reshape(image, (-1,))\n",
    "    return {\"image-pixels\": image}, label[..., tf.newaxis]\n",
    "\n",
    "def train_input_fn():\n",
    "    datasets = tfds.load(name=\"mnist\")\n",
    "    mnist_train = datasets[\"train\"]\n",
    "    dataset = mnist_train.map(preprocess)\n",
    "    dataset = dataset.shuffle(BUFFER_SIZE)\n",
    "    dataset = dataset.batch(BATCH_SIZE)\n",
    "    return dataset.repeat()\n",
    "\n",
    "def eval_input_fn():\n",
    "    datasets = tfds.load(name=\"mnist\")\n",
    "    mnist_test = datasets[\"test\"]\n",
    "    dataset = mnist_test.map(preprocess).batch(BATCH_SIZE)\n",
    "    return dataset\n",
    "\n",
    "image_feature_column = tf.feature_column.numeric_column(key=\"image-pixels\", shape=(28*28))\n",
    "\"\"\"\n",
    "本書に書かれている通り, RuntimeError: Graph is finalized and cannot be modified.とでる↓\n",
    "\"\"\"\n",
    "dnn_classifier = tf.estimator.DNNClassifier(feature_columns=[image_feature_column], hidden_units=[32, 16], n_classes=10, model_dir=colab_path+\"models/mnist-dnn/\")\n",
    "\n",
    "dnn_classifier.train(input_fn=train_input_fn, steps=NUM_EPOCHS * steps_per_epoch)\n",
    "eval_result = dnn_classifier.evaluate(input_fn=eval_input_fn)\n",
    "print(eval_result)"
   ],
   "execution_count": null,
   "outputs": [
    {
     "output_type": "execute_result",
     "data": {
      "application/vnd.google.colaboratory.intrinsic+json": {
       "type": "string"
      },
      "text/plain": [
       "'\\n本書に書かれている通り, RuntimeError: Graph is finalized and cannot be modified.とでる↓\\ndnn_classifier = tf.estimator.DNNClassifier(feature_columns=[image_feature_column], hidden_units=[32, 16], n_classes=10, model_dir=colab_path+\"models/mnist-dnn/\")\\n\\ndnn_classifier.train(input_fn=train_input_fn, steps=NUM_EPOCHS * steps_per_epoch)\\neval_result = dnn_classifier.evaluate(input_fn=eval_input_fn)\\nprint(eval_result)'"
      ]
     },
     "metadata": {},
     "execution_count": 53
    }
   ]
  },
  {
   "cell_type": "code",
   "metadata": {
    "id": "NQF8cVuNksVq",
    "colab": {
     "base_uri": "https://localhost:8080/",
     "height": 385
    },
    "executionInfo": {
     "status": "error",
     "timestamp": 1632653876433,
     "user_tz": -540,
     "elapsed": 284,
     "user": {
      "displayName": "Take Okamoto",
      "photoUrl": "https://lh3.googleusercontent.com/a-/AOh14GhVqmNnut5L-0ft4xro2ZbcGFAS-3j24RhttYBBuQ=s64",
      "userId": "05374417784101071994"
     }
    },
    "outputId": "b59a28b9-7136-4e23-902a-6eaf75330309"
   },
   "source": [
    "tf.random.set_seed(1)\n",
    "np.random.seed(1)\n",
    "x = np.random.uniform(low=-1, high=1, size=(200, 2))\n",
    "y = np.ones(len(x))\n",
    "y[x[:, 0] * x[:, 1] < 0] = 0\n",
    "x_train = x[:100, :]\n",
    "y_train = y[:100]\n",
    "x_valid = x[100:, :]\n",
    "y_valid = y[100:]\n",
    "\n",
    "\"\"\"\n",
    "RuntimeError: Graph is finalized and cannot be modified.とでる↓\n",
    "\"\"\"\n",
    "model = tf.keras.Sequential([\n",
    "                             tf.keras.layers.Input(shape=(2,), name=\"input-features\"),\n",
    "                             tf.keras.Dense(units=4, activation=\"relu\"),\n",
    "                             tf.keras.Dense(units=4, activation=\"relu\"),\n",
    "                             tf.keras.Dense(units=4, activation=\"relu\"),\n",
    "                             tf.keras.Dense(units=1, activation=\"sigmoid\")\n",
    "])\n",
    "\n",
    "def train_input_fn():\n",
    "    dataset = tf.data.Dataset.from_tensor_slices(({\"input-features\": x_train}, y_train.reshape(-1, 1)))\n",
    "    return dataset.shuffle(100).repeat().batch(batch_size)\n",
    "\n",
    "def eval_input_fn(x_test, y_test=None, batch_size=8):\n",
    "    if y_test is None:\n",
    "        dataset = tf.data.Dataset.from_tensor_slices({\"input-features\": x_test})\n",
    "    else:\n",
    "        dataset = tf.data.Dataset.from_tensor_slices(({\"input-features\": x_test}, y_test.reshape(-1, 1)))\n",
    "    return dataset.batch(batch_size)\n",
    "\n",
    "features = [tf.feature_column.numeric_column(key=\"input-features:\", shape=(2,))]\n",
    "\n",
    "model.compile(optimizer=tf.keras.optimizers.SGD(), loss=tf.keras.losses.BinaryCrossentropy(), metrics=[tf.keras.metrics.BinaryAccuracy()])\n",
    "my_estimator = tf.keras.estimator.model_to_estimator(keras_model=model, model_dir=colab_path+\"models/estimator-for-XOR/\")\n",
    "\n",
    "num_epochs = 200\n",
    "batch_size = 2\n",
    "steps_per_epoch = np.ceil(len(x_train) / batch_size)\n",
    "my_estimator.train(input_fn=lambda: train_input_fn(x_train, y_train, batch_size), steps=num_epochs * steps_per_epoch)\n",
    "my_estimator.evaluate(input_fn=lambda: eval_input_fn(x_valid, y_valid, batch_size))"
   ],
   "execution_count": 60,
   "outputs": [
    {
     "output_type": "error",
     "ename": "RuntimeError",
     "evalue": "ignored",
     "traceback": [
      "\u001B[0;31m---------------------------------------------------------------------------\u001B[0m",
      "\u001B[0;31mRuntimeError\u001B[0m                              Traceback (most recent call last)",
      "\u001B[0;32m<ipython-input-60-fd1720909a66>\u001B[0m in \u001B[0;36m<module>\u001B[0;34m()\u001B[0m\n\u001B[1;32m     10\u001B[0m \u001B[0;34m\u001B[0m\u001B[0m\n\u001B[1;32m     11\u001B[0m model = tf.keras.Sequential([\n\u001B[0;32m---> 12\u001B[0;31m                              \u001B[0mtf\u001B[0m\u001B[0;34m.\u001B[0m\u001B[0mkeras\u001B[0m\u001B[0;34m.\u001B[0m\u001B[0mlayers\u001B[0m\u001B[0;34m.\u001B[0m\u001B[0mInput\u001B[0m\u001B[0;34m(\u001B[0m\u001B[0mshape\u001B[0m\u001B[0;34m=\u001B[0m\u001B[0;34m(\u001B[0m\u001B[0;36m2\u001B[0m\u001B[0;34m,\u001B[0m\u001B[0;34m)\u001B[0m\u001B[0;34m,\u001B[0m \u001B[0mname\u001B[0m\u001B[0;34m=\u001B[0m\u001B[0;34m\"input-features\"\u001B[0m\u001B[0;34m)\u001B[0m\u001B[0;34m,\u001B[0m\u001B[0;34m\u001B[0m\u001B[0;34m\u001B[0m\u001B[0m\n\u001B[0m\u001B[1;32m     13\u001B[0m                              \u001B[0mtf\u001B[0m\u001B[0;34m.\u001B[0m\u001B[0mkeras\u001B[0m\u001B[0;34m.\u001B[0m\u001B[0mDense\u001B[0m\u001B[0;34m(\u001B[0m\u001B[0munits\u001B[0m\u001B[0;34m=\u001B[0m\u001B[0;36m4\u001B[0m\u001B[0;34m,\u001B[0m \u001B[0mactivation\u001B[0m\u001B[0;34m=\u001B[0m\u001B[0;34m\"relu\"\u001B[0m\u001B[0;34m)\u001B[0m\u001B[0;34m,\u001B[0m\u001B[0;34m\u001B[0m\u001B[0;34m\u001B[0m\u001B[0m\n\u001B[1;32m     14\u001B[0m                              \u001B[0mtf\u001B[0m\u001B[0;34m.\u001B[0m\u001B[0mkeras\u001B[0m\u001B[0;34m.\u001B[0m\u001B[0mDense\u001B[0m\u001B[0;34m(\u001B[0m\u001B[0munits\u001B[0m\u001B[0;34m=\u001B[0m\u001B[0;36m4\u001B[0m\u001B[0;34m,\u001B[0m \u001B[0mactivation\u001B[0m\u001B[0;34m=\u001B[0m\u001B[0;34m\"relu\"\u001B[0m\u001B[0;34m)\u001B[0m\u001B[0;34m,\u001B[0m\u001B[0;34m\u001B[0m\u001B[0;34m\u001B[0m\u001B[0m\n",
      "\u001B[0;32m/usr/local/lib/python3.7/dist-packages/keras/engine/input_layer.py\u001B[0m in \u001B[0;36mInput\u001B[0;34m(shape, batch_size, name, dtype, sparse, tensor, ragged, type_spec, **kwargs)\u001B[0m\n\u001B[1;32m    381\u001B[0m     input_layer_config.update(\n\u001B[1;32m    382\u001B[0m         {'batch_size': batch_size, 'input_shape': shape})\n\u001B[0;32m--> 383\u001B[0;31m   \u001B[0minput_layer\u001B[0m \u001B[0;34m=\u001B[0m \u001B[0mInputLayer\u001B[0m\u001B[0;34m(\u001B[0m\u001B[0;34m**\u001B[0m\u001B[0minput_layer_config\u001B[0m\u001B[0;34m)\u001B[0m\u001B[0;34m\u001B[0m\u001B[0;34m\u001B[0m\u001B[0m\n\u001B[0m\u001B[1;32m    384\u001B[0m \u001B[0;34m\u001B[0m\u001B[0m\n\u001B[1;32m    385\u001B[0m   \u001B[0;31m# Return tensor including `_keras_history`.\u001B[0m\u001B[0;34m\u001B[0m\u001B[0;34m\u001B[0m\u001B[0;34m\u001B[0m\u001B[0m\n",
      "\u001B[0;32m/usr/local/lib/python3.7/dist-packages/keras/engine/input_layer.py\u001B[0m in \u001B[0;36m__init__\u001B[0;34m(self, input_shape, batch_size, dtype, input_tensor, sparse, name, ragged, type_spec, **kwargs)\u001B[0m\n\u001B[1;32m    199\u001B[0m             \u001B[0mname\u001B[0m\u001B[0;34m=\u001B[0m\u001B[0mself\u001B[0m\u001B[0;34m.\u001B[0m\u001B[0mname\u001B[0m\u001B[0;34m,\u001B[0m\u001B[0;34m\u001B[0m\u001B[0;34m\u001B[0m\u001B[0m\n\u001B[1;32m    200\u001B[0m             \u001B[0msparse\u001B[0m\u001B[0;34m=\u001B[0m\u001B[0msparse\u001B[0m\u001B[0;34m,\u001B[0m\u001B[0;34m\u001B[0m\u001B[0;34m\u001B[0m\u001B[0m\n\u001B[0;32m--> 201\u001B[0;31m             ragged=ragged)\n\u001B[0m\u001B[1;32m    202\u001B[0m \u001B[0;34m\u001B[0m\u001B[0m\n\u001B[1;32m    203\u001B[0m       \u001B[0mself\u001B[0m\u001B[0;34m.\u001B[0m\u001B[0mis_placeholder\u001B[0m \u001B[0;34m=\u001B[0m \u001B[0;32mTrue\u001B[0m\u001B[0;34m\u001B[0m\u001B[0;34m\u001B[0m\u001B[0m\n",
      "\u001B[0;32m/usr/local/lib/python3.7/dist-packages/keras/backend.py\u001B[0m in \u001B[0;36mplaceholder\u001B[0;34m(shape, ndim, dtype, sparse, name, ragged)\u001B[0m\n\u001B[1;32m   1332\u001B[0m                                expand_composites=True)\n\u001B[1;32m   1333\u001B[0m       \u001B[0;32melse\u001B[0m\u001B[0;34m:\u001B[0m\u001B[0;34m\u001B[0m\u001B[0;34m\u001B[0m\u001B[0m\n\u001B[0;32m-> 1334\u001B[0;31m         \u001B[0mx\u001B[0m \u001B[0;34m=\u001B[0m \u001B[0mtf\u001B[0m\u001B[0;34m.\u001B[0m\u001B[0mcompat\u001B[0m\u001B[0;34m.\u001B[0m\u001B[0mv1\u001B[0m\u001B[0;34m.\u001B[0m\u001B[0mplaceholder\u001B[0m\u001B[0;34m(\u001B[0m\u001B[0mdtype\u001B[0m\u001B[0;34m,\u001B[0m \u001B[0mshape\u001B[0m\u001B[0;34m=\u001B[0m\u001B[0mshape\u001B[0m\u001B[0;34m,\u001B[0m \u001B[0mname\u001B[0m\u001B[0;34m=\u001B[0m\u001B[0mname\u001B[0m\u001B[0;34m)\u001B[0m\u001B[0;34m\u001B[0m\u001B[0;34m\u001B[0m\u001B[0m\n\u001B[0m\u001B[1;32m   1335\u001B[0m \u001B[0;34m\u001B[0m\u001B[0m\n\u001B[1;32m   1336\u001B[0m   \u001B[0;32mif\u001B[0m \u001B[0mtf\u001B[0m\u001B[0;34m.\u001B[0m\u001B[0mexecuting_eagerly\u001B[0m\u001B[0;34m(\u001B[0m\u001B[0;34m)\u001B[0m\u001B[0;34m:\u001B[0m\u001B[0;34m\u001B[0m\u001B[0;34m\u001B[0m\u001B[0m\n",
      "\u001B[0;32m/usr/local/lib/python3.7/dist-packages/tensorflow/python/ops/array_ops.py\u001B[0m in \u001B[0;36mplaceholder\u001B[0;34m(dtype, shape, name)\u001B[0m\n\u001B[1;32m   3283\u001B[0m                        \"eager execution.\")\n\u001B[1;32m   3284\u001B[0m \u001B[0;34m\u001B[0m\u001B[0m\n\u001B[0;32m-> 3285\u001B[0;31m   \u001B[0;32mreturn\u001B[0m \u001B[0mgen_array_ops\u001B[0m\u001B[0;34m.\u001B[0m\u001B[0mplaceholder\u001B[0m\u001B[0;34m(\u001B[0m\u001B[0mdtype\u001B[0m\u001B[0;34m=\u001B[0m\u001B[0mdtype\u001B[0m\u001B[0;34m,\u001B[0m \u001B[0mshape\u001B[0m\u001B[0;34m=\u001B[0m\u001B[0mshape\u001B[0m\u001B[0;34m,\u001B[0m \u001B[0mname\u001B[0m\u001B[0;34m=\u001B[0m\u001B[0mname\u001B[0m\u001B[0;34m)\u001B[0m\u001B[0;34m\u001B[0m\u001B[0;34m\u001B[0m\u001B[0m\n\u001B[0m\u001B[1;32m   3286\u001B[0m \u001B[0;34m\u001B[0m\u001B[0m\n\u001B[1;32m   3287\u001B[0m \u001B[0;34m\u001B[0m\u001B[0m\n",
      "\u001B[0;32m/usr/local/lib/python3.7/dist-packages/tensorflow/python/ops/gen_array_ops.py\u001B[0m in \u001B[0;36mplaceholder\u001B[0;34m(dtype, shape, name)\u001B[0m\n\u001B[1;32m   6727\u001B[0m   \u001B[0mshape\u001B[0m \u001B[0;34m=\u001B[0m \u001B[0m_execute\u001B[0m\u001B[0;34m.\u001B[0m\u001B[0mmake_shape\u001B[0m\u001B[0;34m(\u001B[0m\u001B[0mshape\u001B[0m\u001B[0;34m,\u001B[0m \u001B[0;34m\"shape\"\u001B[0m\u001B[0;34m)\u001B[0m\u001B[0;34m\u001B[0m\u001B[0;34m\u001B[0m\u001B[0m\n\u001B[1;32m   6728\u001B[0m   _, _, _op, _outputs = _op_def_library._apply_op_helper(\n\u001B[0;32m-> 6729\u001B[0;31m         \"Placeholder\", dtype=dtype, shape=shape, name=name)\n\u001B[0m\u001B[1;32m   6730\u001B[0m   \u001B[0m_result\u001B[0m \u001B[0;34m=\u001B[0m \u001B[0m_outputs\u001B[0m\u001B[0;34m[\u001B[0m\u001B[0;34m:\u001B[0m\u001B[0;34m]\u001B[0m\u001B[0;34m\u001B[0m\u001B[0;34m\u001B[0m\u001B[0m\n\u001B[1;32m   6731\u001B[0m   \u001B[0;32mif\u001B[0m \u001B[0m_execute\u001B[0m\u001B[0;34m.\u001B[0m\u001B[0mmust_record_gradient\u001B[0m\u001B[0;34m(\u001B[0m\u001B[0;34m)\u001B[0m\u001B[0;34m:\u001B[0m\u001B[0;34m\u001B[0m\u001B[0;34m\u001B[0m\u001B[0m\n",
      "\u001B[0;32m/usr/local/lib/python3.7/dist-packages/tensorflow/python/framework/op_def_library.py\u001B[0m in \u001B[0;36m_apply_op_helper\u001B[0;34m(op_type_name, name, **keywords)\u001B[0m\n\u001B[1;32m    748\u001B[0m       op = g._create_op_internal(op_type_name, inputs, dtypes=None,\n\u001B[1;32m    749\u001B[0m                                  \u001B[0mname\u001B[0m\u001B[0;34m=\u001B[0m\u001B[0mscope\u001B[0m\u001B[0;34m,\u001B[0m \u001B[0minput_types\u001B[0m\u001B[0;34m=\u001B[0m\u001B[0minput_types\u001B[0m\u001B[0;34m,\u001B[0m\u001B[0;34m\u001B[0m\u001B[0;34m\u001B[0m\u001B[0m\n\u001B[0;32m--> 750\u001B[0;31m                                  attrs=attr_protos, op_def=op_def)\n\u001B[0m\u001B[1;32m    751\u001B[0m \u001B[0;34m\u001B[0m\u001B[0m\n\u001B[1;32m    752\u001B[0m     \u001B[0;31m# `outputs` is returned as a separate return value so that the output\u001B[0m\u001B[0;34m\u001B[0m\u001B[0;34m\u001B[0m\u001B[0;34m\u001B[0m\u001B[0m\n",
      "\u001B[0;32m/usr/local/lib/python3.7/dist-packages/tensorflow/python/framework/ops.py\u001B[0m in \u001B[0;36m_create_op_internal\u001B[0;34m(self, op_type, inputs, dtypes, input_types, name, attrs, op_def, compute_device)\u001B[0m\n\u001B[1;32m   3542\u001B[0m       \u001B[0mAn\u001B[0m\u001B[0;31m \u001B[0m\u001B[0;31m`\u001B[0m\u001B[0mOperation\u001B[0m\u001B[0;31m`\u001B[0m \u001B[0mobject\u001B[0m\u001B[0;34m.\u001B[0m\u001B[0;34m\u001B[0m\u001B[0;34m\u001B[0m\u001B[0m\n\u001B[1;32m   3543\u001B[0m     \"\"\"\n\u001B[0;32m-> 3544\u001B[0;31m     \u001B[0mself\u001B[0m\u001B[0;34m.\u001B[0m\u001B[0m_check_not_finalized\u001B[0m\u001B[0;34m(\u001B[0m\u001B[0;34m)\u001B[0m\u001B[0;34m\u001B[0m\u001B[0;34m\u001B[0m\u001B[0m\n\u001B[0m\u001B[1;32m   3545\u001B[0m     \u001B[0;32mif\u001B[0m \u001B[0mname\u001B[0m \u001B[0;32mis\u001B[0m \u001B[0;32mNone\u001B[0m\u001B[0;34m:\u001B[0m\u001B[0;34m\u001B[0m\u001B[0;34m\u001B[0m\u001B[0m\n\u001B[1;32m   3546\u001B[0m       \u001B[0mname\u001B[0m \u001B[0;34m=\u001B[0m \u001B[0mop_type\u001B[0m\u001B[0;34m\u001B[0m\u001B[0;34m\u001B[0m\u001B[0m\n",
      "\u001B[0;32m/usr/local/lib/python3.7/dist-packages/tensorflow/python/framework/ops.py\u001B[0m in \u001B[0;36m_check_not_finalized\u001B[0;34m(self)\u001B[0m\n\u001B[1;32m   3129\u001B[0m     \"\"\"\n\u001B[1;32m   3130\u001B[0m     \u001B[0;32mif\u001B[0m \u001B[0mself\u001B[0m\u001B[0;34m.\u001B[0m\u001B[0m_finalized\u001B[0m\u001B[0;34m:\u001B[0m\u001B[0;34m\u001B[0m\u001B[0;34m\u001B[0m\u001B[0m\n\u001B[0;32m-> 3131\u001B[0;31m       \u001B[0;32mraise\u001B[0m \u001B[0mRuntimeError\u001B[0m\u001B[0;34m(\u001B[0m\u001B[0;34m\"Graph is finalized and cannot be modified.\"\u001B[0m\u001B[0;34m)\u001B[0m\u001B[0;34m\u001B[0m\u001B[0;34m\u001B[0m\u001B[0m\n\u001B[0m\u001B[1;32m   3132\u001B[0m \u001B[0;34m\u001B[0m\u001B[0m\n\u001B[1;32m   3133\u001B[0m   \u001B[0;32mdef\u001B[0m \u001B[0m_add_op\u001B[0m\u001B[0;34m(\u001B[0m\u001B[0mself\u001B[0m\u001B[0;34m,\u001B[0m \u001B[0mop\u001B[0m\u001B[0;34m,\u001B[0m \u001B[0mop_name\u001B[0m\u001B[0;34m)\u001B[0m\u001B[0;34m:\u001B[0m\u001B[0;34m\u001B[0m\u001B[0;34m\u001B[0m\u001B[0m\n",
      "\u001B[0;31mRuntimeError\u001B[0m: Graph is finalized and cannot be modified."
     ]
    }
   ]
  }
 ]
}